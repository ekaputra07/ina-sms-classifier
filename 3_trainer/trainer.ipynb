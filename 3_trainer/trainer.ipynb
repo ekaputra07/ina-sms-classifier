{
 "cells": [
  {
   "cell_type": "code",
   "execution_count": 1,
   "metadata": {},
   "outputs": [],
   "source": [
    "import numpy as np\n",
    "import pandas as pd\n",
    "import matplotlib.pyplot as plt\n",
    "\n",
    "import tensorflow as tf\n",
    "from tensorflow.keras import models, layers\n",
    "from tensorflow.keras.preprocessing.text import Tokenizer\n",
    "from tensorflow.keras.preprocessing.sequence import pad_sequences\n",
    "from tensorflow.keras.utils import to_categorical\n",
    "\n",
    "%matplotlib inline"
   ]
  },
  {
   "cell_type": "code",
   "execution_count": 2,
   "metadata": {},
   "outputs": [
    {
     "data": {
      "text/html": [
       "<div>\n",
       "<style scoped>\n",
       "    .dataframe tbody tr th:only-of-type {\n",
       "        vertical-align: middle;\n",
       "    }\n",
       "\n",
       "    .dataframe tbody tr th {\n",
       "        vertical-align: top;\n",
       "    }\n",
       "\n",
       "    .dataframe thead th {\n",
       "        text-align: right;\n",
       "    }\n",
       "</style>\n",
       "<table border=\"1\" class=\"dataframe\">\n",
       "  <thead>\n",
       "    <tr style=\"text-align: right;\">\n",
       "      <th></th>\n",
       "      <th>label</th>\n",
       "      <th>message</th>\n",
       "    </tr>\n",
       "  </thead>\n",
       "  <tbody>\n",
       "    <tr>\n",
       "      <th>0</th>\n",
       "      <td>0</td>\n",
       "      <td>festival selamat anda dapatkan hadiah cek tuna...</td>\n",
       "    </tr>\n",
       "    <tr>\n",
       "      <th>1</th>\n",
       "      <td>0</td>\n",
       "      <td>surat keputusan dari shopee slamat anda dapatk...</td>\n",
       "    </tr>\n",
       "    <tr>\n",
       "      <th>2</th>\n",
       "      <td>0</td>\n",
       "      <td>info pemenang slamat anda pilih dapatkan cek d...</td>\n",
       "    </tr>\n",
       "    <tr>\n",
       "      <th>3</th>\n",
       "      <td>0</td>\n",
       "      <td>and terpilih mndptkn program thunan rejeki pee...</td>\n",
       "    </tr>\n",
       "    <tr>\n",
       "      <th>4</th>\n",
       "      <td>1</td>\n",
       "      <td>oktober untung kartu super bagus dan jackpot f...</td>\n",
       "    </tr>\n",
       "    <tr>\n",
       "      <th>...</th>\n",
       "      <td>...</td>\n",
       "      <td>...</td>\n",
       "    </tr>\n",
       "    <tr>\n",
       "      <th>2736</th>\n",
       "      <td>2</td>\n",
       "      <td>solusi keuangan agunan bpkb mobil tenor thn st...</td>\n",
       "    </tr>\n",
       "    <tr>\n",
       "      <th>2737</th>\n",
       "      <td>0</td>\n",
       "      <td>selamat nomor anda men dpt hadiah cek tunai wh...</td>\n",
       "    </tr>\n",
       "    <tr>\n",
       "      <th>2738</th>\n",
       "      <td>0</td>\n",
       "      <td>pesan resmi anda dapatkan hadiah juta dri mkio...</td>\n",
       "    </tr>\n",
       "    <tr>\n",
       "      <th>2739</th>\n",
       "      <td>0</td>\n",
       "      <td>shopee grandprize selamat anda adalah pemenang...</td>\n",
       "    </tr>\n",
       "    <tr>\n",
       "      <th>2740</th>\n",
       "      <td>0</td>\n",
       "      <td>promo hadiah whatsapp selamat whatsapp anda me...</td>\n",
       "    </tr>\n",
       "  </tbody>\n",
       "</table>\n",
       "<p>2741 rows × 2 columns</p>\n",
       "</div>"
      ],
      "text/plain": [
       "      label                                            message\n",
       "0         0  festival selamat anda dapatkan hadiah cek tuna...\n",
       "1         0  surat keputusan dari shopee slamat anda dapatk...\n",
       "2         0  info pemenang slamat anda pilih dapatkan cek d...\n",
       "3         0  and terpilih mndptkn program thunan rejeki pee...\n",
       "4         1  oktober untung kartu super bagus dan jackpot f...\n",
       "...     ...                                                ...\n",
       "2736      2  solusi keuangan agunan bpkb mobil tenor thn st...\n",
       "2737      0  selamat nomor anda men dpt hadiah cek tunai wh...\n",
       "2738      0  pesan resmi anda dapatkan hadiah juta dri mkio...\n",
       "2739      0  shopee grandprize selamat anda adalah pemenang...\n",
       "2740      0  promo hadiah whatsapp selamat whatsapp anda me...\n",
       "\n",
       "[2741 rows x 2 columns]"
      ]
     },
     "execution_count": 2,
     "metadata": {},
     "output_type": "execute_result"
    }
   ],
   "source": [
    "df = pd.read_csv('../dataset/sms-labeled-3k-clean.csv')\n",
    "df"
   ]
  },
  {
   "cell_type": "code",
   "execution_count": 3,
   "metadata": {},
   "outputs": [
    {
     "data": {
      "text/plain": [
       "(2741, 2)"
      ]
     },
     "execution_count": 3,
     "metadata": {},
     "output_type": "execute_result"
    }
   ],
   "source": [
    "# dataset shape\n",
    "df.shape"
   ]
  },
  {
   "cell_type": "code",
   "execution_count": 4,
   "metadata": {},
   "outputs": [
    {
     "data": {
      "text/plain": [
       "array([0., 0., 0., ..., 0., 0., 0.], dtype=float32)"
      ]
     },
     "execution_count": 4,
     "metadata": {},
     "output_type": "execute_result"
    }
   ],
   "source": [
    "# labels\n",
    "labels = np.array(df.values[:, 0], dtype=np.float32)\n",
    "labels"
   ]
  },
  {
   "cell_type": "code",
   "execution_count": 5,
   "metadata": {},
   "outputs": [
    {
     "data": {
      "text/plain": [
       "array(['festival selamat anda dapatkan hadiah cek tunai pin info klik program hadiah',\n",
       "       'surat keputusan dari shopee slamat anda dapatkan cek tunai pin pemenang info klik bit undiansho pee',\n",
       "       'info pemenang slamat anda pilih dapatkan cek dri pee pin info hadiah klik https shopee',\n",
       "       ...,\n",
       "       'pesan resmi anda dapatkan hadiah juta dri mkios pin info klik www hadiah mkios blogspot com',\n",
       "       'shopee grandprize selamat anda adalah pemenang jutawan shopee juta dengan aaq info klik www infoshopee miliar blogspot com',\n",
       "       'promo hadiah whatsapp selamat whatsapp anda meraih hadiah pemenang pin adtr cek hadiah anda www hadiahwhatsap blogspot com'],\n",
       "      dtype=object)"
      ]
     },
     "execution_count": 5,
     "metadata": {},
     "output_type": "execute_result"
    }
   ],
   "source": [
    "# message\n",
    "messages = df.values[:, 1]\n",
    "messages"
   ]
  },
  {
   "cell_type": "code",
   "execution_count": 6,
   "metadata": {},
   "outputs": [],
   "source": [
    "MAXLEN = 50 # max words per message\n",
    "MAX_WORDS = 10000 # max number of words to have in vocabulary"
   ]
  },
  {
   "cell_type": "code",
   "execution_count": 7,
   "metadata": {},
   "outputs": [
    {
     "data": {
      "text/plain": [
       "(2741, 50)"
      ]
     },
     "execution_count": 7,
     "metadata": {},
     "output_type": "execute_result"
    }
   ],
   "source": [
    "# create tokenizer\n",
    "def tokenize_texts(texts, max_words):\n",
    "    tokenizer = Tokenizer(num_words=max_words)\n",
    "    tokenizer.fit_on_texts(texts)\n",
    "    tokens = tokenizer.texts_to_sequences(texts)\n",
    "    word_index = tokenizer.word_index\n",
    "    return tokens, word_index\n",
    "\n",
    "tokens, word_index = tokenize_texts(messages, MAX_WORDS)\n",
    "\n",
    "# convert tokens into fixed length tensor (dataset for training)\n",
    "data = pad_sequences(tokens, maxlen=MAXLEN)\n",
    "data.shape"
   ]
  },
  {
   "cell_type": "code",
   "execution_count": 8,
   "metadata": {},
   "outputs": [
    {
     "data": {
      "text/plain": [
       "array([   0,    0,    0,    0,    0,    0,    0,    0,    0,    0,    0,\n",
       "          0,    0,    0,    0,    0,    0,    0,    0,    0,    0,    0,\n",
       "          0,    0,    0,    0,    0,    0,    0,    0,    0,    0,    0,\n",
       "          0,    0,    0,    0,    0, 2296,   14,    1,   74,    5,    9,\n",
       "         37,    6,    2,    3,   80,    5], dtype=int32)"
      ]
     },
     "execution_count": 8,
     "metadata": {},
     "output_type": "execute_result"
    }
   ],
   "source": [
    "data[0]"
   ]
  },
  {
   "cell_type": "code",
   "execution_count": 9,
   "metadata": {},
   "outputs": [
    {
     "data": {
      "text/plain": [
       "1"
      ]
     },
     "execution_count": 9,
     "metadata": {},
     "output_type": "execute_result"
    }
   ],
   "source": [
    "word_index['anda']"
   ]
  },
  {
   "cell_type": "code",
   "execution_count": 99,
   "metadata": {},
   "outputs": [],
   "source": [
    "# Shuffles data\n",
    "indices = np.arange(data.shape[0])\n",
    "np.random.shuffle(indices)\n",
    "\n",
    "labels = labels[indices]\n",
    "data = data[indices]"
   ]
  },
  {
   "cell_type": "code",
   "execution_count": 100,
   "metadata": {},
   "outputs": [],
   "source": [
    "# split data and labels for training and test\n",
    "# training: the first 2000 data\n",
    "x_train = data[:2000]\n",
    "y_train = labels[:2000]\n",
    "\n",
    "# test: the rest of the data\n",
    "x_test = data[2000:]\n",
    "y_test = labels[2000:]"
   ]
  },
  {
   "cell_type": "code",
   "execution_count": 101,
   "metadata": {},
   "outputs": [],
   "source": [
    "# create model\n",
    "def get_model():\n",
    "    model = models.Sequential([\n",
    "        layers.Embedding(MAX_WORDS, 8, input_length=MAXLEN), # 8 embedding dimension\n",
    "        layers.Flatten(),\n",
    "        layers.Dense(4, activation='softmax') # 4 probability output\n",
    "    ])\n",
    "    model.compile(optimizer='rmsprop', loss='sparse_categorical_crossentropy', metrics=['acc'])\n",
    "    return model\n",
    "\n",
    "model = get_model()"
   ]
  },
  {
   "cell_type": "code",
   "execution_count": 102,
   "metadata": {},
   "outputs": [
    {
     "name": "stdout",
     "output_type": "stream",
     "text": [
      "Epoch 1/75\n",
      "4/4 [==============================] - 0s 23ms/step - loss: 1.3720 - acc: 0.4094 - val_loss: 1.3323 - val_acc: 0.5250\n",
      "Epoch 2/75\n",
      "4/4 [==============================] - 0s 5ms/step - loss: 1.3059 - acc: 0.5550 - val_loss: 1.2812 - val_acc: 0.5250\n",
      "Epoch 3/75\n",
      "4/4 [==============================] - 0s 5ms/step - loss: 1.2505 - acc: 0.5550 - val_loss: 1.2335 - val_acc: 0.5250\n",
      "Epoch 4/75\n",
      "4/4 [==============================] - 0s 5ms/step - loss: 1.1987 - acc: 0.5550 - val_loss: 1.1939 - val_acc: 0.5250\n",
      "Epoch 5/75\n",
      "4/4 [==============================] - 0s 5ms/step - loss: 1.1555 - acc: 0.5550 - val_loss: 1.1594 - val_acc: 0.5250\n",
      "Epoch 6/75\n",
      "4/4 [==============================] - 0s 5ms/step - loss: 1.1161 - acc: 0.5550 - val_loss: 1.1282 - val_acc: 0.5250\n",
      "Epoch 7/75\n",
      "4/4 [==============================] - 0s 5ms/step - loss: 1.0817 - acc: 0.5550 - val_loss: 1.1031 - val_acc: 0.5250\n",
      "Epoch 8/75\n",
      "4/4 [==============================] - 0s 5ms/step - loss: 1.0557 - acc: 0.5550 - val_loss: 1.0799 - val_acc: 0.5250\n",
      "Epoch 9/75\n",
      "4/4 [==============================] - 0s 5ms/step - loss: 1.0331 - acc: 0.5550 - val_loss: 1.0644 - val_acc: 0.5250\n",
      "Epoch 10/75\n",
      "4/4 [==============================] - 0s 5ms/step - loss: 1.0129 - acc: 0.5550 - val_loss: 1.0447 - val_acc: 0.5250\n",
      "Epoch 11/75\n",
      "4/4 [==============================] - 0s 5ms/step - loss: 0.9924 - acc: 0.5550 - val_loss: 1.0235 - val_acc: 0.5250\n",
      "Epoch 12/75\n",
      "4/4 [==============================] - 0s 5ms/step - loss: 0.9714 - acc: 0.5550 - val_loss: 1.0014 - val_acc: 0.5250\n",
      "Epoch 13/75\n",
      "4/4 [==============================] - 0s 5ms/step - loss: 0.9497 - acc: 0.5550 - val_loss: 0.9808 - val_acc: 0.5250\n",
      "Epoch 14/75\n",
      "4/4 [==============================] - 0s 5ms/step - loss: 0.9274 - acc: 0.5550 - val_loss: 0.9621 - val_acc: 0.5250\n",
      "Epoch 15/75\n",
      "4/4 [==============================] - 0s 5ms/step - loss: 0.9052 - acc: 0.5550 - val_loss: 0.9415 - val_acc: 0.5250\n",
      "Epoch 16/75\n",
      "4/4 [==============================] - 0s 5ms/step - loss: 0.8811 - acc: 0.5562 - val_loss: 0.9161 - val_acc: 0.5300\n",
      "Epoch 17/75\n",
      "4/4 [==============================] - 0s 5ms/step - loss: 0.8565 - acc: 0.5825 - val_loss: 0.8969 - val_acc: 0.5400\n",
      "Epoch 18/75\n",
      "4/4 [==============================] - 0s 5ms/step - loss: 0.8320 - acc: 0.6062 - val_loss: 0.8733 - val_acc: 0.5575\n",
      "Epoch 19/75\n",
      "4/4 [==============================] - 0s 5ms/step - loss: 0.8066 - acc: 0.6225 - val_loss: 0.8537 - val_acc: 0.5800\n",
      "Epoch 20/75\n",
      "4/4 [==============================] - 0s 5ms/step - loss: 0.7823 - acc: 0.6338 - val_loss: 0.8285 - val_acc: 0.6275\n",
      "Epoch 21/75\n",
      "4/4 [==============================] - 0s 5ms/step - loss: 0.7559 - acc: 0.6856 - val_loss: 0.8049 - val_acc: 0.7050\n",
      "Epoch 22/75\n",
      "4/4 [==============================] - 0s 5ms/step - loss: 0.7306 - acc: 0.7506 - val_loss: 0.7819 - val_acc: 0.7100\n",
      "Epoch 23/75\n",
      "4/4 [==============================] - 0s 5ms/step - loss: 0.7049 - acc: 0.7650 - val_loss: 0.7627 - val_acc: 0.7000\n",
      "Epoch 24/75\n",
      "4/4 [==============================] - 0s 5ms/step - loss: 0.6809 - acc: 0.7638 - val_loss: 0.7365 - val_acc: 0.7325\n",
      "Epoch 25/75\n",
      "4/4 [==============================] - 0s 5ms/step - loss: 0.6555 - acc: 0.8138 - val_loss: 0.7169 - val_acc: 0.7500\n",
      "Epoch 26/75\n",
      "4/4 [==============================] - 0s 5ms/step - loss: 0.6313 - acc: 0.8363 - val_loss: 0.6936 - val_acc: 0.7900\n",
      "Epoch 27/75\n",
      "4/4 [==============================] - 0s 5ms/step - loss: 0.6069 - acc: 0.8619 - val_loss: 0.6724 - val_acc: 0.8050\n",
      "Epoch 28/75\n",
      "4/4 [==============================] - 0s 5ms/step - loss: 0.5833 - acc: 0.8788 - val_loss: 0.6481 - val_acc: 0.8200\n",
      "Epoch 29/75\n",
      "4/4 [==============================] - 0s 5ms/step - loss: 0.5602 - acc: 0.8850 - val_loss: 0.6284 - val_acc: 0.8350\n",
      "Epoch 30/75\n",
      "4/4 [==============================] - 0s 6ms/step - loss: 0.5376 - acc: 0.8950 - val_loss: 0.6106 - val_acc: 0.8450\n",
      "Epoch 31/75\n",
      "4/4 [==============================] - 0s 5ms/step - loss: 0.5160 - acc: 0.9056 - val_loss: 0.5891 - val_acc: 0.8525\n",
      "Epoch 32/75\n",
      "4/4 [==============================] - 0s 5ms/step - loss: 0.4952 - acc: 0.9050 - val_loss: 0.5702 - val_acc: 0.8725\n",
      "Epoch 33/75\n",
      "4/4 [==============================] - 0s 5ms/step - loss: 0.4749 - acc: 0.9125 - val_loss: 0.5514 - val_acc: 0.8825\n",
      "Epoch 34/75\n",
      "4/4 [==============================] - 0s 5ms/step - loss: 0.4553 - acc: 0.9081 - val_loss: 0.5371 - val_acc: 0.8825\n",
      "Epoch 35/75\n",
      "4/4 [==============================] - 0s 5ms/step - loss: 0.4363 - acc: 0.9169 - val_loss: 0.5191 - val_acc: 0.8875\n",
      "Epoch 36/75\n",
      "4/4 [==============================] - 0s 5ms/step - loss: 0.4180 - acc: 0.9194 - val_loss: 0.5036 - val_acc: 0.8950\n",
      "Epoch 37/75\n",
      "4/4 [==============================] - 0s 5ms/step - loss: 0.4006 - acc: 0.9244 - val_loss: 0.4877 - val_acc: 0.8900\n",
      "Epoch 38/75\n",
      "4/4 [==============================] - 0s 6ms/step - loss: 0.3835 - acc: 0.9325 - val_loss: 0.4732 - val_acc: 0.8950\n",
      "Epoch 39/75\n",
      "4/4 [==============================] - 0s 5ms/step - loss: 0.3677 - acc: 0.9312 - val_loss: 0.4579 - val_acc: 0.8975\n",
      "Epoch 40/75\n",
      "4/4 [==============================] - 0s 5ms/step - loss: 0.3518 - acc: 0.9362 - val_loss: 0.4441 - val_acc: 0.8975\n",
      "Epoch 41/75\n",
      "4/4 [==============================] - 0s 5ms/step - loss: 0.3368 - acc: 0.9419 - val_loss: 0.4311 - val_acc: 0.8975\n",
      "Epoch 42/75\n",
      "4/4 [==============================] - 0s 5ms/step - loss: 0.3227 - acc: 0.9431 - val_loss: 0.4180 - val_acc: 0.9025\n",
      "Epoch 43/75\n",
      "4/4 [==============================] - 0s 5ms/step - loss: 0.3086 - acc: 0.9431 - val_loss: 0.4066 - val_acc: 0.9050\n",
      "Epoch 44/75\n",
      "4/4 [==============================] - 0s 5ms/step - loss: 0.2951 - acc: 0.9525 - val_loss: 0.3963 - val_acc: 0.9050\n",
      "Epoch 45/75\n",
      "4/4 [==============================] - 0s 5ms/step - loss: 0.2825 - acc: 0.9581 - val_loss: 0.3882 - val_acc: 0.9050\n",
      "Epoch 46/75\n",
      "4/4 [==============================] - 0s 5ms/step - loss: 0.2703 - acc: 0.9638 - val_loss: 0.3777 - val_acc: 0.9050\n",
      "Epoch 47/75\n",
      "4/4 [==============================] - 0s 5ms/step - loss: 0.2589 - acc: 0.9650 - val_loss: 0.3668 - val_acc: 0.9100\n",
      "Epoch 48/75\n",
      "4/4 [==============================] - 0s 5ms/step - loss: 0.2476 - acc: 0.9656 - val_loss: 0.3572 - val_acc: 0.9050\n",
      "Epoch 49/75\n",
      "4/4 [==============================] - 0s 5ms/step - loss: 0.2372 - acc: 0.9656 - val_loss: 0.3474 - val_acc: 0.9050\n",
      "Epoch 50/75\n",
      "4/4 [==============================] - 0s 5ms/step - loss: 0.2271 - acc: 0.9700 - val_loss: 0.3370 - val_acc: 0.9100\n",
      "Epoch 51/75\n",
      "4/4 [==============================] - 0s 5ms/step - loss: 0.2177 - acc: 0.9688 - val_loss: 0.3286 - val_acc: 0.9100\n",
      "Epoch 52/75\n",
      "4/4 [==============================] - 0s 5ms/step - loss: 0.2086 - acc: 0.9694 - val_loss: 0.3204 - val_acc: 0.9125\n",
      "Epoch 53/75\n",
      "4/4 [==============================] - 0s 5ms/step - loss: 0.1998 - acc: 0.9706 - val_loss: 0.3149 - val_acc: 0.9150\n",
      "Epoch 54/75\n",
      "4/4 [==============================] - 0s 5ms/step - loss: 0.1909 - acc: 0.9769 - val_loss: 0.3090 - val_acc: 0.9250\n",
      "Epoch 55/75\n",
      "4/4 [==============================] - 0s 5ms/step - loss: 0.1824 - acc: 0.9800 - val_loss: 0.3037 - val_acc: 0.9250\n",
      "Epoch 56/75\n",
      "4/4 [==============================] - 0s 5ms/step - loss: 0.1746 - acc: 0.9831 - val_loss: 0.2960 - val_acc: 0.9250\n",
      "Epoch 57/75\n",
      "4/4 [==============================] - 0s 5ms/step - loss: 0.1670 - acc: 0.9837 - val_loss: 0.2878 - val_acc: 0.9275\n",
      "Epoch 58/75\n",
      "4/4 [==============================] - 0s 5ms/step - loss: 0.1595 - acc: 0.9831 - val_loss: 0.2831 - val_acc: 0.9250\n",
      "Epoch 59/75\n",
      "4/4 [==============================] - 0s 5ms/step - loss: 0.1527 - acc: 0.9862 - val_loss: 0.2783 - val_acc: 0.9275\n",
      "Epoch 60/75\n",
      "4/4 [==============================] - 0s 5ms/step - loss: 0.1459 - acc: 0.9869 - val_loss: 0.2738 - val_acc: 0.9275\n",
      "Epoch 61/75\n",
      "4/4 [==============================] - 0s 5ms/step - loss: 0.1394 - acc: 0.9887 - val_loss: 0.2668 - val_acc: 0.9300\n",
      "Epoch 62/75\n",
      "4/4 [==============================] - 0s 5ms/step - loss: 0.1333 - acc: 0.9881 - val_loss: 0.2610 - val_acc: 0.9300\n",
      "Epoch 63/75\n",
      "4/4 [==============================] - 0s 5ms/step - loss: 0.1275 - acc: 0.9881 - val_loss: 0.2562 - val_acc: 0.9275\n",
      "Epoch 64/75\n"
     ]
    },
    {
     "name": "stdout",
     "output_type": "stream",
     "text": [
      "4/4 [==============================] - 0s 5ms/step - loss: 0.1219 - acc: 0.9900 - val_loss: 0.2517 - val_acc: 0.9300\n",
      "Epoch 65/75\n",
      "4/4 [==============================] - 0s 5ms/step - loss: 0.1167 - acc: 0.9900 - val_loss: 0.2475 - val_acc: 0.9300\n",
      "Epoch 66/75\n",
      "4/4 [==============================] - 0s 5ms/step - loss: 0.1115 - acc: 0.9900 - val_loss: 0.2428 - val_acc: 0.9300\n",
      "Epoch 67/75\n",
      "4/4 [==============================] - 0s 5ms/step - loss: 0.1065 - acc: 0.9900 - val_loss: 0.2373 - val_acc: 0.9325\n",
      "Epoch 68/75\n",
      "4/4 [==============================] - 0s 5ms/step - loss: 0.1017 - acc: 0.9900 - val_loss: 0.2333 - val_acc: 0.9325\n",
      "Epoch 69/75\n",
      "4/4 [==============================] - 0s 5ms/step - loss: 0.0973 - acc: 0.9906 - val_loss: 0.2295 - val_acc: 0.9325\n",
      "Epoch 70/75\n",
      "4/4 [==============================] - 0s 5ms/step - loss: 0.0929 - acc: 0.9906 - val_loss: 0.2260 - val_acc: 0.9350\n",
      "Epoch 71/75\n",
      "4/4 [==============================] - 0s 5ms/step - loss: 0.0887 - acc: 0.9925 - val_loss: 0.2247 - val_acc: 0.9350\n",
      "Epoch 72/75\n",
      "4/4 [==============================] - 0s 5ms/step - loss: 0.0846 - acc: 0.9925 - val_loss: 0.2203 - val_acc: 0.9375\n",
      "Epoch 73/75\n",
      "4/4 [==============================] - 0s 5ms/step - loss: 0.0810 - acc: 0.9925 - val_loss: 0.2170 - val_acc: 0.9375\n",
      "Epoch 74/75\n",
      "4/4 [==============================] - 0s 5ms/step - loss: 0.0771 - acc: 0.9925 - val_loss: 0.2148 - val_acc: 0.9400\n",
      "Epoch 75/75\n",
      "4/4 [==============================] - 0s 5ms/step - loss: 0.0734 - acc: 0.9931 - val_loss: 0.2121 - val_acc: 0.9400\n"
     ]
    }
   ],
   "source": [
    "# Train the model\n",
    "EPOCHS = 75\n",
    "hist = model.fit(x_train, y_train, epochs=EPOCHS, batch_size=512, validation_split=0.2)"
   ]
  },
  {
   "cell_type": "code",
   "execution_count": 103,
   "metadata": {},
   "outputs": [
    {
     "data": {
      "image/png": "[encoded data removed]",
      "text/plain": [
       "<Figure size 432x288 with 1 Axes>"
      ]
     },
     "metadata": {
      "needs_background": "light"
     },
     "output_type": "display_data"
    },
    {
     "data": {
      "image/png": "[encoded data removed]",
      "text/plain": [
       "<Figure size 432x288 with 1 Axes>"
      ]
     },
     "metadata": {
      "needs_background": "light"
     },
     "output_type": "display_data"
    }
   ],
   "source": [
    "history = hist.history\n",
    "\n",
    "train_loss = history['loss']\n",
    "val_loss = history['val_loss']\n",
    "\n",
    "train_acc = history['acc']\n",
    "val_acc = history['val_acc']\n",
    "\n",
    "plt.plot(range(1, EPOCHS+1), train_loss, 'b', label='Training loss')\n",
    "plt.plot(range(1, EPOCHS+1), val_loss, 'bo', label='Validation loss')\n",
    "plt.legend()\n",
    "plt.show()\n",
    "\n",
    "plt.plot(range(1, EPOCHS+1), train_acc, 'b', label='Training acc')\n",
    "plt.plot(range(1, EPOCHS+1), val_acc, 'bo', label='Validation acc')\n",
    "plt.legend()\n",
    "plt.show()"
   ]
  },
  {
   "cell_type": "code",
   "execution_count": 104,
   "metadata": {},
   "outputs": [
    {
     "name": "stdout",
     "output_type": "stream",
     "text": [
      "24/24 [==============================] - 0s 564us/step - loss: 0.2041 - acc: 0.9474\n"
     ]
    },
    {
     "data": {
      "text/plain": [
       "[0.20414216816425323, 0.9473684430122375]"
      ]
     },
     "execution_count": 104,
     "metadata": {},
     "output_type": "execute_result"
    }
   ],
   "source": [
    "model.evaluate(x_test, y_test)"
   ]
  },
  {
   "cell_type": "code",
   "execution_count": 105,
   "metadata": {},
   "outputs": [],
   "source": [
    "predictions = model.predict(x_test)"
   ]
  },
  {
   "cell_type": "code",
   "execution_count": 106,
   "metadata": {},
   "outputs": [],
   "source": [
    "reverse_word_index = dict([(index, word) for (word, index) in word_index.items()])"
   ]
  },
  {
   "cell_type": "code",
   "execution_count": 107,
   "metadata": {},
   "outputs": [
    {
     "name": "stdout",
     "output_type": "stream",
     "text": [
      "Predicted label: 0\n"
     ]
    },
    {
     "data": {
      "text/plain": [
       "'selamat anda terpilih sebagai pemenang kedua kode pin hadiah anda fdd info klik bit hadiah ramadhan'"
      ]
     },
     "execution_count": 107,
     "metadata": {},
     "output_type": "execute_result"
    }
   ],
   "source": [
    "# prediction 0\n",
    "pred = predictions[0]\n",
    "print('Predicted label: {}'.format(np.argmax(pred)))\n",
    "\n",
    "message = ' '.join([reverse_word_index.get(w, '') for w in x_test[0].tolist()])\n",
    "message.strip()"
   ]
  },
  {
   "cell_type": "code",
   "execution_count": 108,
   "metadata": {},
   "outputs": [
    {
     "name": "stdout",
     "output_type": "stream",
     "text": [
      "Predicted label: 1\n"
     ]
    },
    {
     "data": {
      "text/plain": [
       "'info dari pusat game bahwa akun bos istanataipan com sedang bagus boleh coba bermain siang hari ini winrate tinggi kartu bersahabat salam hoki'"
      ]
     },
     "execution_count": 108,
     "metadata": {},
     "output_type": "execute_result"
    }
   ],
   "source": [
    "# prediction 50\n",
    "pred = predictions[50]\n",
    "print('Predicted label: {}'.format(np.argmax(pred)))\n",
    "\n",
    "message = ' '.join([reverse_word_index.get(w, '') for w in x_test[50].tolist()])\n",
    "message.strip()"
   ]
  },
  {
   "cell_type": "code",
   "execution_count": 109,
   "metadata": {},
   "outputs": [
    {
     "name": "stdout",
     "output_type": "stream",
     "text": [
      "Predicted label: 0\n"
     ]
    },
    {
     "data": {
      "text/plain": [
       "'selamat anda meraih hadiah juta dri shopee indonesia info klik www thr shopee blogspot com'"
      ]
     },
     "execution_count": 109,
     "metadata": {},
     "output_type": "execute_result"
    }
   ],
   "source": [
    "# prediction 80\n",
    "pred = predictions[80]\n",
    "print('Predicted label: {}'.format(np.argmax(pred)))\n",
    "\n",
    "message = ' '.join([reverse_word_index.get(w, '') for w in x_test[80].tolist()])\n",
    "message.strip()"
   ]
  },
  {
   "cell_type": "code",
   "execution_count": 110,
   "metadata": {},
   "outputs": [
    {
     "name": "stdout",
     "output_type": "stream",
     "text": [
      "Predicted label: 0\n"
     ]
    },
    {
     "data": {
      "text/plain": [
       "'riki apa kaba kangen sama kaamu chat com'"
      ]
     },
     "execution_count": 110,
     "metadata": {},
     "output_type": "execute_result"
    }
   ],
   "source": [
    "# prediction last\n",
    "pred = predictions[-1]\n",
    "print('Predicted label: {}'.format(np.argmax(pred)))\n",
    "\n",
    "message = ' '.join([reverse_word_index.get(w, '') for w in x_test[-1].tolist()])\n",
    "message.strip()"
   ]
  },
  {
   "cell_type": "code",
   "execution_count": 111,
   "metadata": {},
   "outputs": [
    {
     "data": {
      "text/plain": [
       "array([0.82250816, 0.02432367, 0.05891695, 0.09425117], dtype=float32)"
      ]
     },
     "execution_count": 111,
     "metadata": {},
     "output_type": "execute_result"
    }
   ],
   "source": [
    "predictions[-1]"
   ]
  },
  {
   "cell_type": "code",
   "execution_count": null,
   "metadata": {},
   "outputs": [],
   "source": []
  }
 ],
 "metadata": {
  "kernelspec": {
   "display_name": "Python 3",
   "language": "python",
   "name": "python3"
  },
  "language_info": {
   "codemirror_mode": {
    "name": "ipython",
    "version": 3
   },
   "file_extension": ".py",
   "mimetype": "text/x-python",
   "name": "python",
   "nbconvert_exporter": "python",
   "pygments_lexer": "ipython3",
   "version": "3.8.5"
  }
 },
 "nbformat": 4,
 "nbformat_minor": 4
}
