{
 "cells": [
  {
   "cell_type": "code",
   "execution_count": 31,
   "metadata": {},
   "outputs": [],
   "source": [
    "import numpy as np\n",
    "import pandas as pd\n",
    "import matplotlib.pyplot as plt\n",
    "\n",
    "from sklearn.metrics import confusion_matrix, classification_report\n",
    "\n",
    "from tensorflow.keras.metrics import Precision, Recall, AUC, CategoricalAccuracy\n",
    "from tensorflow.keras import models, layers\n",
    "from tensorflow.keras.preprocessing.text import Tokenizer\n",
    "from tensorflow.keras.preprocessing.sequence import pad_sequences\n",
    "from tensorflow.keras.utils import to_categorical\n",
    "\n",
    "\n",
    "%matplotlib inline"
   ]
  },
  {
   "cell_type": "code",
   "execution_count": 4,
   "metadata": {},
   "outputs": [
    {
     "data": {
      "text/html": [
       "<div>\n",
       "<style scoped>\n",
       "    .dataframe tbody tr th:only-of-type {\n",
       "        vertical-align: middle;\n",
       "    }\n",
       "\n",
       "    .dataframe tbody tr th {\n",
       "        vertical-align: top;\n",
       "    }\n",
       "\n",
       "    .dataframe thead th {\n",
       "        text-align: right;\n",
       "    }\n",
       "</style>\n",
       "<table border=\"1\" class=\"dataframe\">\n",
       "  <thead>\n",
       "    <tr style=\"text-align: right;\">\n",
       "      <th></th>\n",
       "      <th>label</th>\n",
       "      <th>message</th>\n",
       "    </tr>\n",
       "  </thead>\n",
       "  <tbody>\n",
       "    <tr>\n",
       "      <th>0</th>\n",
       "      <td>0</td>\n",
       "      <td>festival selamat anda dapatkan hadiah cek tuna...</td>\n",
       "    </tr>\n",
       "    <tr>\n",
       "      <th>1</th>\n",
       "      <td>0</td>\n",
       "      <td>surat keputusan dari shopee slamat anda dapatk...</td>\n",
       "    </tr>\n",
       "    <tr>\n",
       "      <th>2</th>\n",
       "      <td>0</td>\n",
       "      <td>info pemenang slamat anda pilih dapatkan cek d...</td>\n",
       "    </tr>\n",
       "    <tr>\n",
       "      <th>3</th>\n",
       "      <td>0</td>\n",
       "      <td>and terpilih mndptkn program thunan rejeki pee...</td>\n",
       "    </tr>\n",
       "    <tr>\n",
       "      <th>4</th>\n",
       "      <td>1</td>\n",
       "      <td>oktober untung kartu super bagus dan jackpot f...</td>\n",
       "    </tr>\n",
       "    <tr>\n",
       "      <th>...</th>\n",
       "      <td>...</td>\n",
       "      <td>...</td>\n",
       "    </tr>\n",
       "    <tr>\n",
       "      <th>2736</th>\n",
       "      <td>2</td>\n",
       "      <td>solusi keuangan agunan bpkb mobil tenor thn st...</td>\n",
       "    </tr>\n",
       "    <tr>\n",
       "      <th>2737</th>\n",
       "      <td>0</td>\n",
       "      <td>selamat nomor anda men dpt hadiah cek tunai wh...</td>\n",
       "    </tr>\n",
       "    <tr>\n",
       "      <th>2738</th>\n",
       "      <td>0</td>\n",
       "      <td>pesan resmi anda dapatkan hadiah juta dri mkio...</td>\n",
       "    </tr>\n",
       "    <tr>\n",
       "      <th>2739</th>\n",
       "      <td>0</td>\n",
       "      <td>shopee grandprize selamat anda adalah pemenang...</td>\n",
       "    </tr>\n",
       "    <tr>\n",
       "      <th>2740</th>\n",
       "      <td>0</td>\n",
       "      <td>promo hadiah whatsapp selamat whatsapp anda me...</td>\n",
       "    </tr>\n",
       "  </tbody>\n",
       "</table>\n",
       "<p>2741 rows × 2 columns</p>\n",
       "</div>"
      ],
      "text/plain": [
       "      label                                            message\n",
       "0         0  festival selamat anda dapatkan hadiah cek tuna...\n",
       "1         0  surat keputusan dari shopee slamat anda dapatk...\n",
       "2         0  info pemenang slamat anda pilih dapatkan cek d...\n",
       "3         0  and terpilih mndptkn program thunan rejeki pee...\n",
       "4         1  oktober untung kartu super bagus dan jackpot f...\n",
       "...     ...                                                ...\n",
       "2736      2  solusi keuangan agunan bpkb mobil tenor thn st...\n",
       "2737      0  selamat nomor anda men dpt hadiah cek tunai wh...\n",
       "2738      0  pesan resmi anda dapatkan hadiah juta dri mkio...\n",
       "2739      0  shopee grandprize selamat anda adalah pemenang...\n",
       "2740      0  promo hadiah whatsapp selamat whatsapp anda me...\n",
       "\n",
       "[2741 rows x 2 columns]"
      ]
     },
     "execution_count": 4,
     "metadata": {},
     "output_type": "execute_result"
    }
   ],
   "source": [
    "df = pd.read_csv('../dataset/sms-labeled-3k-clean.csv')\n",
    "df"
   ]
  },
  {
   "cell_type": "code",
   "execution_count": 5,
   "metadata": {},
   "outputs": [
    {
     "data": {
      "text/plain": [
       "(2741, 2)"
      ]
     },
     "execution_count": 5,
     "metadata": {},
     "output_type": "execute_result"
    }
   ],
   "source": [
    "# dataset shape\n",
    "df.shape"
   ]
  },
  {
   "cell_type": "code",
   "execution_count": 6,
   "metadata": {},
   "outputs": [
    {
     "data": {
      "text/plain": [
       "array([[1., 0., 0., 0.],\n",
       "       [1., 0., 0., 0.],\n",
       "       [1., 0., 0., 0.],\n",
       "       ...,\n",
       "       [1., 0., 0., 0.],\n",
       "       [1., 0., 0., 0.],\n",
       "       [1., 0., 0., 0.]], dtype=float32)"
      ]
     },
     "execution_count": 6,
     "metadata": {},
     "output_type": "execute_result"
    }
   ],
   "source": [
    "# one-hot the labels\n",
    "labels = df['label'].values\n",
    "labels = to_categorical(labels)\n",
    "labels"
   ]
  },
  {
   "cell_type": "code",
   "execution_count": 7,
   "metadata": {},
   "outputs": [
    {
     "data": {
      "text/plain": [
       "array(['festival selamat anda dapatkan hadiah cek tunai pin info klik program hadiah',\n",
       "       'surat keputusan dari shopee slamat anda dapatkan cek tunai pin pemenang info klik bit undiansho pee',\n",
       "       'info pemenang slamat anda pilih dapatkan cek dri pee pin info hadiah klik https shopee',\n",
       "       ...,\n",
       "       'pesan resmi anda dapatkan hadiah juta dri mkios pin info klik www hadiah mkios blogspot com',\n",
       "       'shopee grandprize selamat anda adalah pemenang jutawan shopee juta dengan aaq info klik www infoshopee miliar blogspot com',\n",
       "       'promo hadiah whatsapp selamat whatsapp anda meraih hadiah pemenang pin adtr cek hadiah anda www hadiahwhatsap blogspot com'],\n",
       "      dtype=object)"
      ]
     },
     "execution_count": 7,
     "metadata": {},
     "output_type": "execute_result"
    }
   ],
   "source": [
    "# message\n",
    "messages = df['message'].values\n",
    "messages"
   ]
  },
  {
   "cell_type": "code",
   "execution_count": 8,
   "metadata": {},
   "outputs": [],
   "source": [
    "MAXLEN = 50 # max words per message\n",
    "MAX_WORDS = 10000 # max number of words to have in vocabulary"
   ]
  },
  {
   "cell_type": "code",
   "execution_count": 9,
   "metadata": {},
   "outputs": [
    {
     "data": {
      "text/plain": [
       "(2741, 50)"
      ]
     },
     "execution_count": 9,
     "metadata": {},
     "output_type": "execute_result"
    }
   ],
   "source": [
    "# create tokenizer\n",
    "def tokenize_texts(texts, max_words):\n",
    "    tokenizer = Tokenizer(num_words=max_words)\n",
    "    tokenizer.fit_on_texts(texts)\n",
    "    tokens = tokenizer.texts_to_sequences(texts)\n",
    "    word_index = tokenizer.word_index\n",
    "    return tokens, word_index\n",
    "\n",
    "tokens, word_index = tokenize_texts(messages, MAX_WORDS)\n",
    "\n",
    "# convert tokens into fixed length tensor (dataset for training)\n",
    "data = pad_sequences(tokens, maxlen=MAXLEN)\n",
    "data.shape"
   ]
  },
  {
   "cell_type": "code",
   "execution_count": 10,
   "metadata": {},
   "outputs": [
    {
     "data": {
      "text/plain": [
       "array([   0,    0,    0,    0,    0,    0,    0,    0,    0,    0,    0,\n",
       "          0,    0,    0,    0,    0,    0,    0,    0,    0,    0,    0,\n",
       "          0,    0,    0,    0,    0,    0,    0,    0,    0,    0,    0,\n",
       "          0,    0,    0,    0,    0, 2296,   14,    1,   74,    5,    9,\n",
       "         37,    6,    2,    3,   80,    5], dtype=int32)"
      ]
     },
     "execution_count": 10,
     "metadata": {},
     "output_type": "execute_result"
    }
   ],
   "source": [
    "data[0]"
   ]
  },
  {
   "cell_type": "code",
   "execution_count": 11,
   "metadata": {},
   "outputs": [
    {
     "data": {
      "text/plain": [
       "1"
      ]
     },
     "execution_count": 11,
     "metadata": {},
     "output_type": "execute_result"
    }
   ],
   "source": [
    "word_index['anda']"
   ]
  },
  {
   "cell_type": "code",
   "execution_count": 12,
   "metadata": {},
   "outputs": [],
   "source": [
    "# Shuffles data\n",
    "indices = np.arange(data.shape[0])\n",
    "np.random.shuffle(indices)\n",
    "\n",
    "labels = labels[indices]\n",
    "data = data[indices]"
   ]
  },
  {
   "cell_type": "code",
   "execution_count": 13,
   "metadata": {},
   "outputs": [],
   "source": [
    "# split data and labels for training and test\n",
    "# training: the first 2000 data\n",
    "x_train = data[:2000]\n",
    "y_train = labels[:2000]\n",
    "\n",
    "# test: the rest of the data\n",
    "x_test = data[2000:]\n",
    "y_test = labels[2000:]"
   ]
  },
  {
   "cell_type": "code",
   "execution_count": 14,
   "metadata": {},
   "outputs": [],
   "source": [
    "# create model\n",
    "def get_model():\n",
    "    model = models.Sequential([\n",
    "        layers.Embedding(MAX_WORDS, 8, input_length=MAXLEN), # 8 embedding dimension\n",
    "        layers.Flatten(),\n",
    "        layers.Dense(4, activation='softmax') # 4 probability output\n",
    "    ])\n",
    "    metrics = [\n",
    "        CategoricalAccuracy(),\n",
    "        Precision(),\n",
    "        Recall(),\n",
    "        AUC(),\n",
    "    ]\n",
    "    model.compile(optimizer='rmsprop', loss='categorical_crossentropy', metrics=metrics)\n",
    "    return model"
   ]
  },
  {
   "cell_type": "code",
   "execution_count": 15,
   "metadata": {},
   "outputs": [
    {
     "name": "stdout",
     "output_type": "stream",
     "text": [
      "Epoch 1/75\n",
      "4/4 [==============================] - 0s 86ms/step - loss: 1.3736 - categorical_accuracy: 0.3306 - precision: 0.0000e+00 - recall: 0.0000e+00 - auc: 0.6173 - val_loss: 1.3240 - val_categorical_accuracy: 0.5850 - val_precision: 0.0000e+00 - val_recall: 0.0000e+00 - val_auc: 0.8034\n",
      "Epoch 2/75\n",
      "4/4 [==============================] - 0s 7ms/step - loss: 1.3056 - categorical_accuracy: 0.5731 - precision: 0.0000e+00 - recall: 0.0000e+00 - auc: 0.8132 - val_loss: 1.2604 - val_categorical_accuracy: 0.5775 - val_precision: 0.0000e+00 - val_recall: 0.0000e+00 - val_auc: 0.8278\n",
      "Epoch 3/75\n",
      "4/4 [==============================] - 0s 8ms/step - loss: 1.2462 - categorical_accuracy: 0.5337 - precision: 0.0000e+00 - recall: 0.0000e+00 - auc: 0.8311 - val_loss: 1.2059 - val_categorical_accuracy: 0.5750 - val_precision: 0.0000e+00 - val_recall: 0.0000e+00 - val_auc: 0.8404\n",
      "Epoch 4/75\n",
      "4/4 [==============================] - 0s 7ms/step - loss: 1.1951 - categorical_accuracy: 0.5331 - precision: 0.0000e+00 - recall: 0.0000e+00 - auc: 0.8439 - val_loss: 1.1562 - val_categorical_accuracy: 0.5750 - val_precision: 0.0000e+00 - val_recall: 0.0000e+00 - val_auc: 0.8466\n",
      "Epoch 5/75\n",
      "4/4 [==============================] - 0s 7ms/step - loss: 1.1495 - categorical_accuracy: 0.5331 - precision: 0.0000e+00 - recall: 0.0000e+00 - auc: 0.8490 - val_loss: 1.1213 - val_categorical_accuracy: 0.5750 - val_precision: 0.0000e+00 - val_recall: 0.0000e+00 - val_auc: 0.8529\n",
      "Epoch 6/75\n",
      "4/4 [==============================] - 0s 7ms/step - loss: 1.1142 - categorical_accuracy: 0.5331 - precision: 1.0000 - recall: 6.2500e-04 - auc: 0.8551 - val_loss: 1.0825 - val_categorical_accuracy: 0.5750 - val_precision: 1.0000 - val_recall: 0.0075 - val_auc: 0.8561\n",
      "Epoch 7/75\n",
      "4/4 [==============================] - 0s 7ms/step - loss: 1.0781 - categorical_accuracy: 0.5331 - precision: 0.9959 - recall: 0.1500 - auc: 0.8575 - val_loss: 1.0506 - val_categorical_accuracy: 0.5750 - val_precision: 0.9815 - val_recall: 0.3975 - val_auc: 0.8589\n",
      "Epoch 8/75\n",
      "4/4 [==============================] - 0s 7ms/step - loss: 1.0490 - categorical_accuracy: 0.5331 - precision: 0.9860 - recall: 0.4394 - auc: 0.8595 - val_loss: 1.0264 - val_categorical_accuracy: 0.5750 - val_precision: 0.9583 - val_recall: 0.4600 - val_auc: 0.8623\n",
      "Epoch 9/75\n",
      "4/4 [==============================] - 0s 7ms/step - loss: 1.0241 - categorical_accuracy: 0.5331 - precision: 0.9802 - recall: 0.4963 - auc: 0.8616 - val_loss: 1.0038 - val_categorical_accuracy: 0.5750 - val_precision: 0.9381 - val_recall: 0.4925 - val_auc: 0.8638\n",
      "Epoch 10/75\n",
      "4/4 [==============================] - 0s 7ms/step - loss: 0.9995 - categorical_accuracy: 0.5331 - precision: 0.9561 - recall: 0.5175 - auc: 0.8624 - val_loss: 0.9836 - val_categorical_accuracy: 0.5750 - val_precision: 0.9355 - val_recall: 0.5075 - val_auc: 0.8651\n",
      "Epoch 11/75\n",
      "4/4 [==============================] - 0s 7ms/step - loss: 0.9762 - categorical_accuracy: 0.5331 - precision: 0.9596 - recall: 0.5194 - auc: 0.8628 - val_loss: 0.9643 - val_categorical_accuracy: 0.5750 - val_precision: 0.9439 - val_recall: 0.5050 - val_auc: 0.8653\n",
      "Epoch 12/75\n",
      "4/4 [==============================] - 0s 7ms/step - loss: 0.9524 - categorical_accuracy: 0.5350 - precision: 0.9687 - recall: 0.5219 - auc: 0.8631 - val_loss: 0.9436 - val_categorical_accuracy: 0.5775 - val_precision: 0.9484 - val_recall: 0.5050 - val_auc: 0.8653\n",
      "Epoch 13/75\n",
      "4/4 [==============================] - 0s 7ms/step - loss: 0.9282 - categorical_accuracy: 0.5412 - precision: 0.9710 - recall: 0.5225 - auc: 0.8666 - val_loss: 0.9228 - val_categorical_accuracy: 0.5875 - val_precision: 0.9531 - val_recall: 0.5075 - val_auc: 0.8688\n",
      "Epoch 14/75\n",
      "4/4 [==============================] - 0s 7ms/step - loss: 0.9028 - categorical_accuracy: 0.5800 - precision: 0.9801 - recall: 0.5225 - auc: 0.8739 - val_loss: 0.8956 - val_categorical_accuracy: 0.5825 - val_precision: 0.9138 - val_recall: 0.5300 - val_auc: 0.8751\n",
      "Epoch 15/75\n",
      "4/4 [==============================] - 0s 7ms/step - loss: 0.8769 - categorical_accuracy: 0.5663 - precision: 0.9515 - recall: 0.5269 - auc: 0.8796 - val_loss: 0.8753 - val_categorical_accuracy: 0.6225 - val_precision: 0.9295 - val_recall: 0.5275 - val_auc: 0.8805\n",
      "Epoch 16/75\n",
      "4/4 [==============================] - 0s 7ms/step - loss: 0.8519 - categorical_accuracy: 0.6162 - precision: 0.9601 - recall: 0.5263 - auc: 0.8896 - val_loss: 0.8530 - val_categorical_accuracy: 0.6400 - val_precision: 0.9221 - val_recall: 0.5325 - val_auc: 0.8880\n",
      "Epoch 17/75\n",
      "4/4 [==============================] - 0s 7ms/step - loss: 0.8264 - categorical_accuracy: 0.6488 - precision: 0.9645 - recall: 0.5263 - auc: 0.8994 - val_loss: 0.8332 - val_categorical_accuracy: 0.6900 - val_precision: 0.9292 - val_recall: 0.5250 - val_auc: 0.8973\n",
      "Epoch 18/75\n",
      "4/4 [==============================] - 0s 7ms/step - loss: 0.8011 - categorical_accuracy: 0.7013 - precision: 0.9734 - recall: 0.5269 - auc: 0.9103 - val_loss: 0.8125 - val_categorical_accuracy: 0.7350 - val_precision: 0.9500 - val_recall: 0.5225 - val_auc: 0.9067\n",
      "Epoch 19/75\n",
      "4/4 [==============================] - 0s 7ms/step - loss: 0.7744 - categorical_accuracy: 0.7444 - precision: 0.9826 - recall: 0.5306 - auc: 0.9199 - val_loss: 0.7901 - val_categorical_accuracy: 0.7450 - val_precision: 0.9462 - val_recall: 0.5275 - val_auc: 0.9110\n",
      "Epoch 20/75\n",
      "4/4 [==============================] - 0s 6ms/step - loss: 0.7488 - categorical_accuracy: 0.7550 - precision: 0.9796 - recall: 0.5400 - auc: 0.9253 - val_loss: 0.7701 - val_categorical_accuracy: 0.7650 - val_precision: 0.9593 - val_recall: 0.5300 - val_auc: 0.9197\n",
      "Epoch 21/75\n",
      "4/4 [==============================] - 0s 7ms/step - loss: 0.7222 - categorical_accuracy: 0.7844 - precision: 0.9855 - recall: 0.5519 - auc: 0.9365 - val_loss: 0.7467 - val_categorical_accuracy: 0.7775 - val_precision: 0.9600 - val_recall: 0.5400 - val_auc: 0.9261\n",
      "Epoch 22/75\n",
      "4/4 [==============================] - 0s 8ms/step - loss: 0.6966 - categorical_accuracy: 0.8138 - precision: 0.9861 - recall: 0.5756 - auc: 0.9439 - val_loss: 0.7237 - val_categorical_accuracy: 0.7875 - val_precision: 0.9526 - val_recall: 0.5525 - val_auc: 0.9307\n",
      "Epoch 23/75\n",
      "4/4 [==============================] - 0s 7ms/step - loss: 0.6716 - categorical_accuracy: 0.8256 - precision: 0.9840 - recall: 0.5750 - auc: 0.9493 - val_loss: 0.7052 - val_categorical_accuracy: 0.7975 - val_precision: 0.9669 - val_recall: 0.5850 - val_auc: 0.9355\n",
      "Epoch 24/75\n",
      "4/4 [==============================] - 0s 7ms/step - loss: 0.6471 - categorical_accuracy: 0.8431 - precision: 0.9865 - recall: 0.6381 - auc: 0.9544 - val_loss: 0.6838 - val_categorical_accuracy: 0.8100 - val_precision: 0.9555 - val_recall: 0.5900 - val_auc: 0.9397\n",
      "Epoch 25/75\n",
      "4/4 [==============================] - 0s 7ms/step - loss: 0.6233 - categorical_accuracy: 0.8537 - precision: 0.9858 - recall: 0.6519 - auc: 0.9592 - val_loss: 0.6644 - val_categorical_accuracy: 0.8450 - val_precision: 0.9641 - val_recall: 0.6050 - val_auc: 0.9481\n",
      "Epoch 26/75\n",
      "4/4 [==============================] - 0s 7ms/step - loss: 0.5992 - categorical_accuracy: 0.8756 - precision: 0.9869 - recall: 0.6594 - auc: 0.9661 - val_loss: 0.6468 - val_categorical_accuracy: 0.8550 - val_precision: 0.9681 - val_recall: 0.6075 - val_auc: 0.9530\n",
      "Epoch 27/75\n",
      "4/4 [==============================] - 0s 7ms/step - loss: 0.5759 - categorical_accuracy: 0.8888 - precision: 0.9902 - recall: 0.6938 - auc: 0.9703 - val_loss: 0.6294 - val_categorical_accuracy: 0.8625 - val_precision: 0.9735 - val_recall: 0.6425 - val_auc: 0.9550\n",
      "Epoch 28/75\n",
      "4/4 [==============================] - 0s 7ms/step - loss: 0.5539 - categorical_accuracy: 0.8906 - precision: 0.9906 - recall: 0.7219 - auc: 0.9727 - val_loss: 0.6087 - val_categorical_accuracy: 0.8600 - val_precision: 0.9680 - val_recall: 0.6800 - val_auc: 0.9555\n",
      "Epoch 29/75\n",
      "4/4 [==============================] - 0s 7ms/step - loss: 0.5321 - categorical_accuracy: 0.8913 - precision: 0.9891 - recall: 0.7350 - auc: 0.9734 - val_loss: 0.5934 - val_categorical_accuracy: 0.8675 - val_precision: 0.9716 - val_recall: 0.6850 - val_auc: 0.9592\n",
      "Epoch 30/75\n"
     ]
    },
    {
     "name": "stdout",
     "output_type": "stream",
     "text": [
      "4/4 [==============================] - 0s 7ms/step - loss: 0.5112 - categorical_accuracy: 0.9000 - precision: 0.9909 - recall: 0.7481 - auc: 0.9781 - val_loss: 0.5756 - val_categorical_accuracy: 0.8725 - val_precision: 0.9684 - val_recall: 0.6900 - val_auc: 0.9614\n",
      "Epoch 31/75\n",
      "4/4 [==============================] - 0s 7ms/step - loss: 0.4911 - categorical_accuracy: 0.9069 - precision: 0.9911 - recall: 0.7688 - auc: 0.9798 - val_loss: 0.5615 - val_categorical_accuracy: 0.8775 - val_precision: 0.9721 - val_recall: 0.6975 - val_auc: 0.9652\n",
      "Epoch 32/75\n",
      "4/4 [==============================] - 0s 7ms/step - loss: 0.4724 - categorical_accuracy: 0.9144 - precision: 0.9914 - recall: 0.7906 - auc: 0.9836 - val_loss: 0.5459 - val_categorical_accuracy: 0.8750 - val_precision: 0.9727 - val_recall: 0.7125 - val_auc: 0.9666\n",
      "Epoch 33/75\n",
      "4/4 [==============================] - 0s 7ms/step - loss: 0.4531 - categorical_accuracy: 0.9162 - precision: 0.9923 - recall: 0.8044 - auc: 0.9851 - val_loss: 0.5296 - val_categorical_accuracy: 0.8800 - val_precision: 0.9670 - val_recall: 0.7325 - val_auc: 0.9672\n",
      "Epoch 34/75\n",
      "4/4 [==============================] - 0s 7ms/step - loss: 0.4348 - categorical_accuracy: 0.9169 - precision: 0.9917 - recall: 0.8194 - auc: 0.9860 - val_loss: 0.5156 - val_categorical_accuracy: 0.8825 - val_precision: 0.9711 - val_recall: 0.7550 - val_auc: 0.9686\n",
      "Epoch 35/75\n",
      "4/4 [==============================] - 0s 7ms/step - loss: 0.4176 - categorical_accuracy: 0.9206 - precision: 0.9926 - recall: 0.8419 - auc: 0.9873 - val_loss: 0.5021 - val_categorical_accuracy: 0.8800 - val_precision: 0.9687 - val_recall: 0.7725 - val_auc: 0.9687\n",
      "Epoch 36/75\n",
      "4/4 [==============================] - 0s 7ms/step - loss: 0.4008 - categorical_accuracy: 0.9194 - precision: 0.9927 - recall: 0.8500 - auc: 0.9875 - val_loss: 0.4873 - val_categorical_accuracy: 0.8825 - val_precision: 0.9690 - val_recall: 0.7825 - val_auc: 0.9699\n",
      "Epoch 37/75\n",
      "4/4 [==============================] - 0s 7ms/step - loss: 0.3850 - categorical_accuracy: 0.9237 - precision: 0.9928 - recall: 0.8587 - auc: 0.9885 - val_loss: 0.4742 - val_categorical_accuracy: 0.8875 - val_precision: 0.9691 - val_recall: 0.7850 - val_auc: 0.9724\n",
      "Epoch 38/75\n",
      "4/4 [==============================] - 0s 7ms/step - loss: 0.3687 - categorical_accuracy: 0.9306 - precision: 0.9928 - recall: 0.8675 - auc: 0.9907 - val_loss: 0.4637 - val_categorical_accuracy: 0.8850 - val_precision: 0.9694 - val_recall: 0.7925 - val_auc: 0.9741\n",
      "Epoch 39/75\n",
      "4/4 [==============================] - 0s 7ms/step - loss: 0.3528 - categorical_accuracy: 0.9325 - precision: 0.9922 - recall: 0.8725 - auc: 0.9921 - val_loss: 0.4520 - val_categorical_accuracy: 0.8900 - val_precision: 0.9693 - val_recall: 0.7900 - val_auc: 0.9752\n",
      "Epoch 40/75\n",
      "4/4 [==============================] - 0s 6ms/step - loss: 0.3381 - categorical_accuracy: 0.9331 - precision: 0.9922 - recall: 0.8725 - auc: 0.9928 - val_loss: 0.4389 - val_categorical_accuracy: 0.8900 - val_precision: 0.9669 - val_recall: 0.8025 - val_auc: 0.9765\n",
      "Epoch 41/75\n",
      "4/4 [==============================] - 0s 7ms/step - loss: 0.3239 - categorical_accuracy: 0.9394 - precision: 0.9923 - recall: 0.8806 - auc: 0.9938 - val_loss: 0.4290 - val_categorical_accuracy: 0.8975 - val_precision: 0.9673 - val_recall: 0.8125 - val_auc: 0.9776\n",
      "Epoch 42/75\n",
      "4/4 [==============================] - 0s 6ms/step - loss: 0.3102 - categorical_accuracy: 0.9406 - precision: 0.9923 - recall: 0.8869 - auc: 0.9945 - val_loss: 0.4195 - val_categorical_accuracy: 0.8975 - val_precision: 0.9675 - val_recall: 0.8175 - val_auc: 0.9781\n",
      "Epoch 43/75\n",
      "4/4 [==============================] - 0s 7ms/step - loss: 0.2968 - categorical_accuracy: 0.9406 - precision: 0.9924 - recall: 0.8925 - auc: 0.9950 - val_loss: 0.4081 - val_categorical_accuracy: 0.8975 - val_precision: 0.9676 - val_recall: 0.8200 - val_auc: 0.9789\n",
      "Epoch 44/75\n",
      "4/4 [==============================] - 0s 7ms/step - loss: 0.2842 - categorical_accuracy: 0.9444 - precision: 0.9924 - recall: 0.8956 - auc: 0.9952 - val_loss: 0.3977 - val_categorical_accuracy: 0.9025 - val_precision: 0.9649 - val_recall: 0.8250 - val_auc: 0.9801\n",
      "Epoch 45/75\n",
      "4/4 [==============================] - 0s 6ms/step - loss: 0.2724 - categorical_accuracy: 0.9513 - precision: 0.9924 - recall: 0.9013 - auc: 0.9959 - val_loss: 0.3907 - val_categorical_accuracy: 0.8975 - val_precision: 0.9678 - val_recall: 0.8275 - val_auc: 0.9808\n",
      "Epoch 46/75\n",
      "4/4 [==============================] - 0s 6ms/step - loss: 0.2605 - categorical_accuracy: 0.9556 - precision: 0.9925 - recall: 0.9069 - auc: 0.9963 - val_loss: 0.3792 - val_categorical_accuracy: 0.9025 - val_precision: 0.9652 - val_recall: 0.8325 - val_auc: 0.9816\n",
      "Epoch 47/75\n",
      "4/4 [==============================] - 0s 7ms/step - loss: 0.2491 - categorical_accuracy: 0.9563 - precision: 0.9925 - recall: 0.9081 - auc: 0.9967 - val_loss: 0.3726 - val_categorical_accuracy: 0.9025 - val_precision: 0.9684 - val_recall: 0.8425 - val_auc: 0.9816\n",
      "Epoch 48/75\n",
      "4/4 [==============================] - 0s 7ms/step - loss: 0.2388 - categorical_accuracy: 0.9569 - precision: 0.9925 - recall: 0.9131 - auc: 0.9967 - val_loss: 0.3638 - val_categorical_accuracy: 0.9050 - val_precision: 0.9684 - val_recall: 0.8425 - val_auc: 0.9829\n",
      "Epoch 49/75\n",
      "4/4 [==============================] - 0s 7ms/step - loss: 0.2279 - categorical_accuracy: 0.9619 - precision: 0.9926 - recall: 0.9162 - auc: 0.9973 - val_loss: 0.3586 - val_categorical_accuracy: 0.9100 - val_precision: 0.9684 - val_recall: 0.8425 - val_auc: 0.9837\n",
      "Epoch 50/75\n",
      "4/4 [==============================] - 0s 6ms/step - loss: 0.2181 - categorical_accuracy: 0.9656 - precision: 0.9926 - recall: 0.9187 - auc: 0.9977 - val_loss: 0.3500 - val_categorical_accuracy: 0.9125 - val_precision: 0.9657 - val_recall: 0.8450 - val_auc: 0.9842\n",
      "Epoch 51/75\n",
      "4/4 [==============================] - 0s 6ms/step - loss: 0.2082 - categorical_accuracy: 0.9681 - precision: 0.9926 - recall: 0.9231 - auc: 0.9980 - val_loss: 0.3419 - val_categorical_accuracy: 0.9125 - val_precision: 0.9688 - val_recall: 0.8525 - val_auc: 0.9847\n",
      "Epoch 52/75\n",
      "4/4 [==============================] - 0s 7ms/step - loss: 0.1992 - categorical_accuracy: 0.9688 - precision: 0.9926 - recall: 0.9269 - auc: 0.9981 - val_loss: 0.3345 - val_categorical_accuracy: 0.9125 - val_precision: 0.9662 - val_recall: 0.8575 - val_auc: 0.9855\n",
      "Epoch 53/75\n",
      "4/4 [==============================] - 0s 7ms/step - loss: 0.1900 - categorical_accuracy: 0.9756 - precision: 0.9927 - recall: 0.9287 - auc: 0.9984 - val_loss: 0.3292 - val_categorical_accuracy: 0.9100 - val_precision: 0.9636 - val_recall: 0.8600 - val_auc: 0.9855\n",
      "Epoch 54/75\n",
      "4/4 [==============================] - 0s 7ms/step - loss: 0.1818 - categorical_accuracy: 0.9750 - precision: 0.9927 - recall: 0.9325 - auc: 0.9985 - val_loss: 0.3208 - val_categorical_accuracy: 0.9100 - val_precision: 0.9610 - val_recall: 0.8625 - val_auc: 0.9863\n",
      "Epoch 55/75\n",
      "4/4 [==============================] - 0s 7ms/step - loss: 0.1733 - categorical_accuracy: 0.9800 - precision: 0.9927 - recall: 0.9375 - auc: 0.9987 - val_loss: 0.3150 - val_categorical_accuracy: 0.9100 - val_precision: 0.9610 - val_recall: 0.8625 - val_auc: 0.9869\n",
      "Epoch 56/75\n",
      "4/4 [==============================] - 0s 7ms/step - loss: 0.1653 - categorical_accuracy: 0.9812 - precision: 0.9934 - recall: 0.9400 - auc: 0.9989 - val_loss: 0.3090 - val_categorical_accuracy: 0.9125 - val_precision: 0.9612 - val_recall: 0.8675 - val_auc: 0.9870\n",
      "Epoch 57/75\n",
      "4/4 [==============================] - 0s 6ms/step - loss: 0.1578 - categorical_accuracy: 0.9806 - precision: 0.9934 - recall: 0.9406 - auc: 0.9989 - val_loss: 0.3025 - val_categorical_accuracy: 0.9125 - val_precision: 0.9640 - val_recall: 0.8700 - val_auc: 0.9879\n",
      "Epoch 58/75\n",
      "4/4 [==============================] - 0s 7ms/step - loss: 0.1503 - categorical_accuracy: 0.9844 - precision: 0.9935 - recall: 0.9519 - auc: 0.9991 - val_loss: 0.2961 - val_categorical_accuracy: 0.9150 - val_precision: 0.9615 - val_recall: 0.8750 - val_auc: 0.9882\n",
      "Epoch 59/75\n",
      "4/4 [==============================] - 0s 7ms/step - loss: 0.1434 - categorical_accuracy: 0.9837 - precision: 0.9935 - recall: 0.9556 - auc: 0.9991 - val_loss: 0.2904 - val_categorical_accuracy: 0.9175 - val_precision: 0.9644 - val_recall: 0.8800 - val_auc: 0.9888\n"
     ]
    },
    {
     "name": "stdout",
     "output_type": "stream",
     "text": [
      "Epoch 60/75\n",
      "4/4 [==============================] - 0s 7ms/step - loss: 0.1369 - categorical_accuracy: 0.9862 - precision: 0.9942 - recall: 0.9619 - auc: 0.9992 - val_loss: 0.2844 - val_categorical_accuracy: 0.9175 - val_precision: 0.9620 - val_recall: 0.8850 - val_auc: 0.9889\n",
      "Epoch 61/75\n",
      "4/4 [==============================] - 0s 7ms/step - loss: 0.1306 - categorical_accuracy: 0.9862 - precision: 0.9942 - recall: 0.9644 - auc: 0.9993 - val_loss: 0.2794 - val_categorical_accuracy: 0.9175 - val_precision: 0.9621 - val_recall: 0.8875 - val_auc: 0.9889\n",
      "Epoch 62/75\n",
      "4/4 [==============================] - 0s 7ms/step - loss: 0.1246 - categorical_accuracy: 0.9875 - precision: 0.9942 - recall: 0.9675 - auc: 0.9993 - val_loss: 0.2759 - val_categorical_accuracy: 0.9175 - val_precision: 0.9621 - val_recall: 0.8875 - val_auc: 0.9890\n",
      "Epoch 63/75\n",
      "4/4 [==============================] - 0s 7ms/step - loss: 0.1193 - categorical_accuracy: 0.9862 - precision: 0.9942 - recall: 0.9675 - auc: 0.9993 - val_loss: 0.2698 - val_categorical_accuracy: 0.9175 - val_precision: 0.9621 - val_recall: 0.8875 - val_auc: 0.9892\n",
      "Epoch 64/75\n",
      "4/4 [==============================] - 0s 7ms/step - loss: 0.1139 - categorical_accuracy: 0.9881 - precision: 0.9942 - recall: 0.9700 - auc: 0.9994 - val_loss: 0.2663 - val_categorical_accuracy: 0.9175 - val_precision: 0.9595 - val_recall: 0.8875 - val_auc: 0.9894\n",
      "Epoch 65/75\n",
      "4/4 [==============================] - 0s 6ms/step - loss: 0.1085 - categorical_accuracy: 0.9887 - precision: 0.9949 - recall: 0.9725 - auc: 0.9995 - val_loss: 0.2615 - val_categorical_accuracy: 0.9225 - val_precision: 0.9621 - val_recall: 0.8875 - val_auc: 0.9898\n",
      "Epoch 66/75\n",
      "4/4 [==============================] - 0s 7ms/step - loss: 0.1033 - categorical_accuracy: 0.9894 - precision: 0.9949 - recall: 0.9737 - auc: 0.9995 - val_loss: 0.2579 - val_categorical_accuracy: 0.9200 - val_precision: 0.9622 - val_recall: 0.8900 - val_auc: 0.9899\n",
      "Epoch 67/75\n",
      "4/4 [==============================] - 0s 7ms/step - loss: 0.0988 - categorical_accuracy: 0.9900 - precision: 0.9949 - recall: 0.9762 - auc: 0.9995 - val_loss: 0.2540 - val_categorical_accuracy: 0.9250 - val_precision: 0.9622 - val_recall: 0.8900 - val_auc: 0.9902\n",
      "Epoch 68/75\n",
      "4/4 [==============================] - 0s 7ms/step - loss: 0.0941 - categorical_accuracy: 0.9900 - precision: 0.9949 - recall: 0.9794 - auc: 0.9996 - val_loss: 0.2512 - val_categorical_accuracy: 0.9250 - val_precision: 0.9599 - val_recall: 0.8975 - val_auc: 0.9902\n",
      "Epoch 69/75\n",
      "4/4 [==============================] - 0s 7ms/step - loss: 0.0897 - categorical_accuracy: 0.9906 - precision: 0.9949 - recall: 0.9806 - auc: 0.9996 - val_loss: 0.2482 - val_categorical_accuracy: 0.9250 - val_precision: 0.9598 - val_recall: 0.8950 - val_auc: 0.9903\n",
      "Epoch 70/75\n",
      "4/4 [==============================] - 0s 7ms/step - loss: 0.0858 - categorical_accuracy: 0.9912 - precision: 0.9949 - recall: 0.9825 - auc: 0.9996 - val_loss: 0.2451 - val_categorical_accuracy: 0.9275 - val_precision: 0.9600 - val_recall: 0.9000 - val_auc: 0.9904\n",
      "Epoch 71/75\n",
      "4/4 [==============================] - 0s 7ms/step - loss: 0.0815 - categorical_accuracy: 0.9925 - precision: 0.9956 - recall: 0.9844 - auc: 0.9997 - val_loss: 0.2416 - val_categorical_accuracy: 0.9275 - val_precision: 0.9599 - val_recall: 0.8975 - val_auc: 0.9906\n",
      "Epoch 72/75\n",
      "4/4 [==============================] - 0s 7ms/step - loss: 0.0778 - categorical_accuracy: 0.9925 - precision: 0.9956 - recall: 0.9850 - auc: 0.9997 - val_loss: 0.2382 - val_categorical_accuracy: 0.9350 - val_precision: 0.9601 - val_recall: 0.9025 - val_auc: 0.9908\n",
      "Epoch 73/75\n",
      "4/4 [==============================] - 0s 7ms/step - loss: 0.0741 - categorical_accuracy: 0.9925 - precision: 0.9956 - recall: 0.9850 - auc: 0.9997 - val_loss: 0.2363 - val_categorical_accuracy: 0.9350 - val_precision: 0.9602 - val_recall: 0.9050 - val_auc: 0.9907\n",
      "Epoch 74/75\n",
      "4/4 [==============================] - 0s 7ms/step - loss: 0.0707 - categorical_accuracy: 0.9925 - precision: 0.9956 - recall: 0.9856 - auc: 0.9997 - val_loss: 0.2356 - val_categorical_accuracy: 0.9350 - val_precision: 0.9601 - val_recall: 0.9025 - val_auc: 0.9908\n",
      "Epoch 75/75\n",
      "4/4 [==============================] - 0s 7ms/step - loss: 0.0673 - categorical_accuracy: 0.9931 - precision: 0.9956 - recall: 0.9881 - auc: 0.9998 - val_loss: 0.2332 - val_categorical_accuracy: 0.9350 - val_precision: 0.9601 - val_recall: 0.9025 - val_auc: 0.9911\n"
     ]
    }
   ],
   "source": [
    "# Train the model\n",
    "EPOCHS = 75\n",
    "\n",
    "model = get_model()\n",
    "hist = model.fit(x_train, y_train, epochs=EPOCHS, batch_size=512, validation_split=0.2)"
   ]
  },
  {
   "cell_type": "code",
   "execution_count": 16,
   "metadata": {},
   "outputs": [
    {
     "data": {
      "image/png": "[encoded data removed]",
      "text/plain": [
       "<Figure size 432x288 with 1 Axes>"
      ]
     },
     "metadata": {
      "needs_background": "light"
     },
     "output_type": "display_data"
    },
    {
     "data": {
      "image/png": "[encoded data removed]",
      "text/plain": [
       "<Figure size 432x288 with 1 Axes>"
      ]
     },
     "metadata": {
      "needs_background": "light"
     },
     "output_type": "display_data"
    },
    {
     "data": {
      "image/png": "[encoded data removed]",
      "text/plain": [
       "<Figure size 432x288 with 1 Axes>"
      ]
     },
     "metadata": {
      "needs_background": "light"
     },
     "output_type": "display_data"
    },
    {
     "data": {
      "image/png": "[encoded data removed]",
      "text/plain": [
       "<Figure size 432x288 with 1 Axes>"
      ]
     },
     "metadata": {
      "needs_background": "light"
     },
     "output_type": "display_data"
    },
    {
     "data": {
      "image/png": "[encoded data removed]",
      "text/plain": [
       "<Figure size 432x288 with 1 Axes>"
      ]
     },
     "metadata": {
      "needs_background": "light"
     },
     "output_type": "display_data"
    }
   ],
   "source": [
    "history = hist.history\n",
    "history\n",
    "train_loss = history['loss']\n",
    "val_loss = history['val_loss']\n",
    "\n",
    "train_acc = history['categorical_accuracy']\n",
    "val_acc = history['val_categorical_accuracy']\n",
    "\n",
    "train_prec = history['precision']\n",
    "val_prec = history['val_precision']\n",
    "\n",
    "train_rec = history['recall']\n",
    "val_rec = history['val_recall']\n",
    "\n",
    "train_auc = history['auc']\n",
    "val_auc = history['val_auc']\n",
    "\n",
    "plt.plot(range(1, EPOCHS+1), train_loss, 'b', label='Training loss')\n",
    "plt.plot(range(1, EPOCHS+1), val_loss, 'bo', label='Validation loss')\n",
    "plt.legend()\n",
    "plt.show()\n",
    "\n",
    "plt.plot(range(1, EPOCHS+1), train_acc, 'b', label='Training acc')\n",
    "plt.plot(range(1, EPOCHS+1), val_acc, 'bo', label='Validation acc')\n",
    "plt.legend()\n",
    "plt.show()\n",
    "\n",
    "plt.plot(range(1, EPOCHS+1), train_prec, 'b', label='Training prec')\n",
    "plt.plot(range(1, EPOCHS+1), val_prec, 'bo', label='Validation prec')\n",
    "plt.legend()\n",
    "plt.show()\n",
    "\n",
    "plt.plot(range(1, EPOCHS+1), train_rec, 'b', label='Training recall')\n",
    "plt.plot(range(1, EPOCHS+1), val_rec, 'bo', label='Validation recall')\n",
    "plt.legend()\n",
    "plt.show()\n",
    "\n",
    "plt.plot(range(1, EPOCHS+1), train_auc, 'b', label='Training auc')\n",
    "plt.plot(range(1, EPOCHS+1), val_auc, 'bo', label='Validation auc')\n",
    "plt.legend()\n",
    "plt.show()"
   ]
  },
  {
   "cell_type": "code",
   "execution_count": 17,
   "metadata": {},
   "outputs": [
    {
     "name": "stdout",
     "output_type": "stream",
     "text": [
      "24/24 [==============================] - 0s 842us/step - loss: 0.2208 - categorical_accuracy: 0.9406 - precision: 0.9684 - recall: 0.9096 - auc: 0.9928\n"
     ]
    },
    {
     "data": {
      "text/plain": [
       "[0.22083722054958344,\n",
       " 0.9406207799911499,\n",
       " 0.9683908224105835,\n",
       " 0.9095816612243652,\n",
       " 0.9927922487258911]"
      ]
     },
     "execution_count": 17,
     "metadata": {},
     "output_type": "execute_result"
    }
   ],
   "source": [
    "model.evaluate(x_test, y_test)"
   ]
  },
  {
   "cell_type": "code",
   "execution_count": 40,
   "metadata": {},
   "outputs": [
    {
     "data": {
      "text/plain": [
       "array([[3.3998060e-01, 9.2579626e-02, 2.3209020e-01, 3.3534950e-01],\n",
       "       [1.5020274e-01, 2.1151483e-01, 2.1963014e-01, 4.1865224e-01],\n",
       "       [9.9977142e-01, 1.6834110e-05, 4.1925341e-05, 1.6978630e-04],\n",
       "       ...,\n",
       "       [9.9527705e-01, 9.6320536e-04, 1.7869580e-03, 1.9729070e-03],\n",
       "       [9.9897075e-01, 3.1778829e-05, 2.0894589e-04, 7.8846072e-04],\n",
       "       [5.0304700e-03, 8.4457524e-02, 8.5707211e-01, 5.3439889e-02]],\n",
       "      dtype=float32)"
      ]
     },
     "execution_count": 40,
     "metadata": {},
     "output_type": "execute_result"
    }
   ],
   "source": [
    "predictions = model.predict(x_test)\n",
    "predictions"
   ]
  },
  {
   "cell_type": "code",
   "execution_count": 42,
   "metadata": {},
   "outputs": [
    {
     "data": {
      "text/plain": [
       "array([[402,   4,  13,   4],\n",
       "       [  2,  87,   1,   1],\n",
       "       [  2,   2, 174,   2],\n",
       "       [  8,   0,   5,  34]])"
      ]
     },
     "execution_count": 42,
     "metadata": {},
     "output_type": "execute_result"
    }
   ],
   "source": [
    "# confusion matrix\n",
    "cm = confusion_matrix(y_true=np.argmax(y_test, axis=1), y_pred=np.argmax(predictions, axis=1))\n",
    "cm"
   ]
  },
  {
   "cell_type": "code",
   "execution_count": 34,
   "metadata": {},
   "outputs": [
    {
     "data": {
      "text/plain": [
       "'              precision    recall  f1-score   support\\n\\n           0       0.97      0.95      0.96       423\\n           1       0.94      0.96      0.95        91\\n           2       0.90      0.97      0.93       180\\n           3       0.83      0.72      0.77        47\\n\\n    accuracy                           0.94       741\\n   macro avg       0.91      0.90      0.90       741\\nweighted avg       0.94      0.94      0.94       741\\n'"
      ]
     },
     "execution_count": 34,
     "metadata": {},
     "output_type": "execute_result"
    }
   ],
   "source": [
    "# classification report\n",
    "report = classification_report(y_true=np.argmax(y_test, axis=1), y_pred=predictions)\n",
    "report"
   ]
  },
  {
   "cell_type": "code",
   "execution_count": 35,
   "metadata": {},
   "outputs": [],
   "source": [
    "reverse_word_index = dict([(index, word) for (word, index) in word_index.items()])"
   ]
  },
  {
   "cell_type": "code",
   "execution_count": 44,
   "metadata": {},
   "outputs": [
    {
     "name": "stdout",
     "output_type": "stream",
     "text": [
      "\"kami elite reloade pulsa cari agen chip all operator hrg info komfirmasi via\"\n",
      "> True label: 0\n",
      "> Pred label: 0 (34.00%)\n",
      "\n",
      "\n",
      "\"mau tahu cara dapatkan ribuan database email untuk promosi hanya klik bisa scrape ribuan data sesuai interested audience https bit scraperfb\"\n",
      "> True label: 2\n",
      "> Pred label: 3 (41.87%)\n",
      "\n",
      "\n",
      "\"info resmi shopee selamat anda resmi dapatkan hadiah juta dri shopee pin info hadiah klik www undian shopee blogspot com\"\n",
      "> True label: 0\n",
      "> Pred label: 0 (99.98%)\n",
      "\n",
      "\n",
      "\"pesan resmi shopee indonesia menetapkan anda sebagai pemenang cek dengan pin info klik bit gebyarshoope\"\n",
      "> True label: 0\n",
      "> Pred label: 0 (99.26%)\n",
      "\n",
      "\n",
      "\"pesan terahir shopee anda resmi dapat hadiah cek jata pin aaq code untuk info hadiah klik bit shopee\"\n",
      "> True label: 0\n",
      "> Pred label: 0 (99.84%)\n",
      "\n",
      "\n",
      "\"anda punya masalah sprti dililit hutang biaya rmh tangga modal usaha dll untuk lebih jelas silhkan klik https bit bsaokv whatsapp\"\n",
      "> True label: 0\n",
      "> Pred label: 0 (86.07%)\n",
      "\n",
      "\n",
      "\"selamat anda resmi terpilih mendapat cek pin info klik link bit galeripemenang\"\n",
      "> True label: 0\n",
      "> Pred label: 0 (99.16%)\n",
      "\n",
      "\n",
      "\"slmt anda dapat hadiah juta dari shpee dan dfa info kunjungi http bit shopee\"\n",
      "> True label: 0\n",
      "> Pred label: 0 (97.41%)\n",
      "\n",
      "\n",
      "\"kpd yth rek anda dpt cek bri pusat dgn pin info klik www pestabankbri\"\n",
      "> True label: 0\n",
      "> Pred label: 0 (99.21%)\n",
      "\n",
      "\n",
      "\"shopee mengucapkan slamat anda resmi dptkn hadiah cek tunai dri shopee pin info klik bit shopeetbk\"\n",
      "> True label: 0\n",
      "> Pred label: 0 (99.92%)\n",
      "\n",
      "\n",
      "\"winrate kemenangan hingga hari ini boss buka mainkan idnya istanataipan com serta rasakan sensasi kartu bagus nya bos claim juga bonusmu skrng\"\n",
      "> True label: 1\n",
      "> Pred label: 1 (95.36%)\n",
      "\n",
      "\n",
      "\"shopee grandprize selamat anda adalah pemenang jutawan shopee mendapatkan hadiah dgn kode aaq info hadiah klik www officeindonesia\"\n",
      "> True label: 0\n",
      "> Pred label: 0 (99.97%)\n",
      "\n",
      "\n",
      "\"bfi wom finance maaf hanya menawarkan anda butuh pinj uang utk modal pend dll ajukan dgn mobil motor dgn rina santie\"\n",
      "> True label: 2\n",
      "> Pred label: 2 (94.33%)\n",
      "\n",
      "\n",
      "\"nomor anda dapat cek dari undian kios code pin anda ijh untuk info klik tiny isiulangmkios\"\n",
      "> True label: 0\n",
      "> Pred label: 0 (99.87%)\n",
      "\n",
      "\n",
      "\"dana pinjaman jaminan mobil cabang indonesia tanpa check resmi aman call dian\"\n",
      "> True label: 2\n",
      "> Pred label: 2 (97.84%)\n",
      "\n",
      "\n",
      "\"kejutan utk tunda isi pulsa dulu join infobola dgn hubungi dan pilih karena ada kesempatan dpt pulsa berkali\"\n",
      "> True label: 0\n",
      "> Pred label: 0 (86.26%)\n",
      "\n",
      "\n",
      "\"ini rekening nya bank bca suriyadi\"\n",
      "> True label: 0\n",
      "> Pred label: 0 (91.91%)\n",
      "\n",
      "\n",
      "\"pelanggan kamu dapat chat hubungi untuk baca chatting tanpa internet raih hadiah pulsa tekan sekarang\"\n",
      "> True label: 0\n",
      "> Pred label: 0 (78.74%)\n",
      "\n",
      "\n",
      "\"selamat anda terpilih pemenang dri program undian shopee senilai kode pin aaq info klik bit undianshopee\"\n",
      "> True label: 0\n",
      "> Pred label: 0 (99.97%)\n",
      "\n",
      "\n",
      "\"promo hari ini beli dpt teh daun insulin benar terbukti menormalkan kadar gula sachet sms promo teh insulin nama alamat bayar belakang\"\n",
      "> True label: 3\n",
      "> Pred label: 3 (79.50%)\n",
      "\n",
      "\n",
      "\"ini nomor rekeningnya bank bri nmor rek mirlanda\"\n",
      "> True label: 0\n",
      "> Pred label: 0 (96.66%)\n",
      "\n",
      "\n",
      "\"paket pnjamantunai lngsung rekning gak pake ribet cair cairkan bit jtaa mincair atau bit jtkaskeras lainnya bit jttnpajaminan\"\n",
      "> True label: 2\n",
      "> Pred label: 2 (43.94%)\n",
      "\n",
      "\n",
      "\"kini multiguna kpr kkb sangat mudah proses cepat syarat mudah tanpa biaya dan bunga rendah verdianto\"\n",
      "> True label: 2\n",
      "> Pred label: 2 (92.16%)\n",
      "\n",
      "\n",
      "\"pemberitahuan resmi anda terpilih mendapatkan dri gebyar lazada pemenang anda info hadiah klik www hadiahgebyarlazada\"\n",
      "> True label: 0\n",
      "> Pred label: 0 (99.89%)\n",
      "\n",
      "\n",
      "\"trima lelangan borongan barang barang kantor hotel meja kursi filling cabinet brankas jasa service kursi kntr siap survey hub tlp\"\n",
      "> True label: 3\n",
      "> Pred label: 2 (59.65%)\n",
      "\n",
      "\n",
      "\"ini nmor reknya bank bca ari putra wijaya\"\n",
      "> True label: 0\n",
      "> Pred label: 0 (90.65%)\n",
      "\n",
      "\n",
      "\"bth pasokan dana untuk usaha multifinance pinjaman uang cpt scra online bbs biro kredit jaminan tenor thn plafon info chat\"\n",
      "> True label: 2\n",
      "> Pred label: 2 (98.98%)\n",
      "\n",
      "\n",
      "\"yth pemenang lazada anda dptkan hadiah cek senilai pin info pengambilan hadiah klik www undian lazada blogspot com\"\n",
      "> True label: 0\n",
      "> Pred label: 0 (99.99%)\n",
      "\n",
      "\n",
      "\"hanya hari ini discount untuk pembelian minuman apa pun tall size tukar sms starbucks terdekat exc airport skb promo\"\n",
      "> True label: 3\n",
      "> Pred label: 3 (87.26%)\n",
      "\n",
      "\n",
      "\"selamat anda mendptkn berbagi hadiah dari shopee pin info lebih lanjut www pestahadiahshopee\"\n",
      "> True label: 0\n",
      "> Pred label: 0 (99.18%)\n",
      "\n",
      "\n",
      "\"pinjamndana dgn bpkb mobil truk cepat mudah bisa over bungaa bln sakilla sakilla\"\n",
      "> True label: 2\n",
      "> Pred label: 2 (98.61%)\n",
      "\n",
      "\n",
      "\"assalamu alaikum big promo cuci gudang iphone ribu samsung ribu oppo ribu vivo ribu lapt minat silahkan cat\"\n",
      "> True label: 0\n",
      "> Pred label: 0 (98.78%)\n",
      "\n",
      "\n",
      "\"pasang cctv online untuk keamanan keluarga dan aset berharga anda bisa pantau mananpun anda berada kualitas harga mulai jutaan cal\"\n",
      "> True label: 3\n",
      "> Pred label: 3 (58.03%)\n",
      "\n",
      "\n",
      "\"ini nomor reknya bca rada prasepta dewa\"\n",
      "> True label: 0\n",
      "> Pred label: 0 (89.62%)\n",
      "\n",
      "\n",
      "\"butuh pinjaman untuk mdal usha kami dri ksp nasari siap mlayani anda proses cpat mdah dan aman info whatshapp\"\n",
      "> True label: 2\n",
      "> Pred label: 2 (96.78%)\n",
      "\n",
      "\n",
      "\"ingin tutup kta kami bantu secara hukum cicilan tetap dengan bunga lunas discount max legal hub terry tlp\"\n",
      "> True label: 2\n",
      "> Pred label: 2 (98.54%)\n",
      "\n",
      "\n",
      "\"ass agus sudah melihat lokasi usaha kmi sdh merasa cocok minat lokasix jadi untuk nego harga hub swdara sya hartono trims\"\n",
      "> True label: 0\n",
      "> Pred label: 0 (93.35%)\n",
      "\n",
      "\n",
      "\"pinjaman dana tunai proses cepat plafon maks persyaratan foto copy ktp kartu kredit npwp cover tabungan hubungi dewi\"\n",
      "> True label: 2\n",
      "> Pred label: 2 (88.04%)\n",
      "\n",
      "\n",
      "\"selamat anda resmi terpilih mendapa cek pin info klik link bit pemenangundian\"\n",
      "> True label: 0\n",
      "> Pred label: 0 (98.77%)\n",
      "\n",
      "\n",
      "\"kami dari shopee indonesia mengucapkan selamat anda resmi mendapatkan hadiah juta pin pemenang info klik bit shopee\"\n",
      "> True label: 0\n",
      "> Pred label: 0 (99.79%)\n",
      "\n",
      "\n",
      "\"alfa mart memberi anda kuota tunai hingga juta yang cepat dan nyaman bunganya http bit afym http bit cwlvct http bit\"\n",
      "> True label: 0\n",
      "> Pred label: 1 (54.84%)\n",
      "\n",
      "\n",
      "\"info resmi pelanggan yth selamat anda dapatkan hadiah juta dari shopee indonesia kode pin info klik bit callcenter shopee\"\n",
      "> True label: 0\n",
      "> Pred label: 0 (99.68%)\n",
      "\n",
      "\n",
      "\"pasang angka keberuntungan anda indot gel tersedia pasaran gel dengan diskon hingga serta live dingdong terbaik klik http\"\n",
      "> True label: 1\n",
      "> Pred label: 1 (95.84%)\n",
      "\n",
      "\n",
      "\"proses cepat syarat mudah pencairan call ria pengajuan goo qxctc menit cair\"\n",
      "> True label: 2\n",
      "> Pred label: 2 (66.80%)\n",
      "\n",
      "\n",
      "\"agunkan mobil anda dptkn pinjaman sesuai kebutuhan rate bisa over tidak cek call\"\n",
      "> True label: 2\n",
      "> Pred label: 2 (96.53%)\n",
      "\n",
      "\n",
      "\"riki apa kaba kangen sama kaamu chat com\"\n",
      "> True label: 0\n",
      "> Pred label: 0 (71.92%)\n",
      "\n",
      "\n",
      "\"jika mau trnzfer tlpn dlu bru sya ini soalx ada prubahan rek tujuan\"\n",
      "> True label: 0\n",
      "> Pred label: 0 (85.64%)\n",
      "\n",
      "\n",
      "\"permisi pinjaman dana jaminan bpkb mobil motor hari cair syarat mudah tanpa potongan bfi finance anita bisa\"\n",
      "> True label: 2\n",
      "> Pred label: 2 (97.36%)\n",
      "\n",
      "\n",
      "\"koperasi menawarkan peminjaman online tanpa anggunan min info chat real amanah\"\n",
      "> True label: 2\n",
      "> Pred label: 2 (92.73%)\n",
      "\n",
      "\n",
      "\"info resmi simcard anda terpilih dptkan hadiah brkat isi ulang pulsa anda pemenang info klik http bit rejeki isiulang\"\n",
      "> True label: 0\n",
      "> Pred label: 0 (99.79%)\n",
      "\n",
      "\n"
     ]
    }
   ],
   "source": [
    "# display some predictions\n",
    "for i in range(50):\n",
    "    pred_label = np.argmax(predictions[i])\n",
    "    true_label = np.argmax(y_test[i])\n",
    "    message = ' '.join([reverse_word_index.get(w, '') for w in x_test[i].tolist()])\n",
    "    confident_level = predictions[i, pred_label] * 100\n",
    "    \n",
    "    print('\"{}\"\\n> True label: {}\\n> Pred label: {} ({:.2f}%)\\n\\n'.format(message.strip(), true_label, pred_label, confident_level))"
   ]
  },
  {
   "cell_type": "code",
   "execution_count": null,
   "metadata": {},
   "outputs": [],
   "source": []
  }
 ],
 "metadata": {
  "kernelspec": {
   "display_name": "Python 3",
   "language": "python",
   "name": "python3"
  },
  "language_info": {
   "codemirror_mode": {
    "name": "ipython",
    "version": 3
   },
   "file_extension": ".py",
   "mimetype": "text/x-python",
   "name": "python",
   "nbconvert_exporter": "python",
   "pygments_lexer": "ipython3",
   "version": "3.8.5"
  }
 },
 "nbformat": 4,
 "nbformat_minor": 4
}
