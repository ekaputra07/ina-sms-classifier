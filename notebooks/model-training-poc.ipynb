{
 "cells": [
  {
   "cell_type": "code",
   "execution_count": 1,
   "metadata": {},
   "outputs": [],
   "source": [
    "import numpy as np\n",
    "import pandas as pd\n",
    "import matplotlib.pyplot as plt\n",
    "\n",
    "import tensorflow as tf\n",
    "from tensorflow.keras import models, layers\n",
    "from tensorflow.keras.preprocessing.text import Tokenizer\n",
    "from tensorflow.keras.preprocessing.sequence import pad_sequences\n",
    "from tensorflow.keras.utils import to_categorical\n",
    "\n",
    "%matplotlib inline"
   ]
  },
  {
   "cell_type": "code",
   "execution_count": 2,
   "metadata": {},
   "outputs": [
    {
     "data": {
      "text/html": [
       "<div>\n",
       "<style scoped>\n",
       "    .dataframe tbody tr th:only-of-type {\n",
       "        vertical-align: middle;\n",
       "    }\n",
       "\n",
       "    .dataframe tbody tr th {\n",
       "        vertical-align: top;\n",
       "    }\n",
       "\n",
       "    .dataframe thead th {\n",
       "        text-align: right;\n",
       "    }\n",
       "</style>\n",
       "<table border=\"1\" class=\"dataframe\">\n",
       "  <thead>\n",
       "    <tr style=\"text-align: right;\">\n",
       "      <th></th>\n",
       "      <th>label</th>\n",
       "      <th>message</th>\n",
       "    </tr>\n",
       "  </thead>\n",
       "  <tbody>\n",
       "    <tr>\n",
       "      <th>0</th>\n",
       "      <td>0</td>\n",
       "      <td>festival selamat anda dapatkan hadiah cek tuna...</td>\n",
       "    </tr>\n",
       "    <tr>\n",
       "      <th>1</th>\n",
       "      <td>0</td>\n",
       "      <td>surat keputusan dari shopee slamat anda dapatk...</td>\n",
       "    </tr>\n",
       "    <tr>\n",
       "      <th>2</th>\n",
       "      <td>0</td>\n",
       "      <td>info pemenang slamat anda pilih dapatkan cek d...</td>\n",
       "    </tr>\n",
       "    <tr>\n",
       "      <th>3</th>\n",
       "      <td>0</td>\n",
       "      <td>and terpilih mndptkn program thunan rejeki pee...</td>\n",
       "    </tr>\n",
       "    <tr>\n",
       "      <th>4</th>\n",
       "      <td>1</td>\n",
       "      <td>oktober untung kartu super bagus dan jackpot f...</td>\n",
       "    </tr>\n",
       "    <tr>\n",
       "      <th>...</th>\n",
       "      <td>...</td>\n",
       "      <td>...</td>\n",
       "    </tr>\n",
       "    <tr>\n",
       "      <th>2736</th>\n",
       "      <td>2</td>\n",
       "      <td>solusi keuangan agunan bpkb mobil tenor thn st...</td>\n",
       "    </tr>\n",
       "    <tr>\n",
       "      <th>2737</th>\n",
       "      <td>0</td>\n",
       "      <td>selamat nomor anda men dpt hadiah cek tunai wh...</td>\n",
       "    </tr>\n",
       "    <tr>\n",
       "      <th>2738</th>\n",
       "      <td>0</td>\n",
       "      <td>pesan resmi anda dapatkan hadiah juta dri mkio...</td>\n",
       "    </tr>\n",
       "    <tr>\n",
       "      <th>2739</th>\n",
       "      <td>0</td>\n",
       "      <td>shopee grandprize selamat anda adalah pemenang...</td>\n",
       "    </tr>\n",
       "    <tr>\n",
       "      <th>2740</th>\n",
       "      <td>0</td>\n",
       "      <td>promo hadiah whatsapp selamat whatsapp anda me...</td>\n",
       "    </tr>\n",
       "  </tbody>\n",
       "</table>\n",
       "<p>2741 rows × 2 columns</p>\n",
       "</div>"
      ],
      "text/plain": [
       "      label                                            message\n",
       "0         0  festival selamat anda dapatkan hadiah cek tuna...\n",
       "1         0  surat keputusan dari shopee slamat anda dapatk...\n",
       "2         0  info pemenang slamat anda pilih dapatkan cek d...\n",
       "3         0  and terpilih mndptkn program thunan rejeki pee...\n",
       "4         1  oktober untung kartu super bagus dan jackpot f...\n",
       "...     ...                                                ...\n",
       "2736      2  solusi keuangan agunan bpkb mobil tenor thn st...\n",
       "2737      0  selamat nomor anda men dpt hadiah cek tunai wh...\n",
       "2738      0  pesan resmi anda dapatkan hadiah juta dri mkio...\n",
       "2739      0  shopee grandprize selamat anda adalah pemenang...\n",
       "2740      0  promo hadiah whatsapp selamat whatsapp anda me...\n",
       "\n",
       "[2741 rows x 2 columns]"
      ]
     },
     "execution_count": 2,
     "metadata": {},
     "output_type": "execute_result"
    }
   ],
   "source": [
    "df = pd.read_csv('../dataset/sms-labeled-3k-clean.csv')\n",
    "df"
   ]
  },
  {
   "cell_type": "code",
   "execution_count": 3,
   "metadata": {},
   "outputs": [
    {
     "data": {
      "text/plain": [
       "(2741, 2)"
      ]
     },
     "execution_count": 3,
     "metadata": {},
     "output_type": "execute_result"
    }
   ],
   "source": [
    "# dataset shape\n",
    "df.shape"
   ]
  },
  {
   "cell_type": "code",
   "execution_count": 4,
   "metadata": {},
   "outputs": [
    {
     "data": {
      "text/plain": [
       "array([0., 0., 0., ..., 0., 0., 0.], dtype=float32)"
      ]
     },
     "execution_count": 4,
     "metadata": {},
     "output_type": "execute_result"
    }
   ],
   "source": [
    "# labels\n",
    "labels = np.array(df.values[:, 0], dtype=np.float32)\n",
    "labels"
   ]
  },
  {
   "cell_type": "code",
   "execution_count": 5,
   "metadata": {},
   "outputs": [
    {
     "data": {
      "text/plain": [
       "array(['festival selamat anda dapatkan hadiah cek tunai pin info klik program hadiah',\n",
       "       'surat keputusan dari shopee slamat anda dapatkan cek tunai pin pemenang info klik bit undiansho pee',\n",
       "       'info pemenang slamat anda pilih dapatkan cek dri pee pin info hadiah klik https shopee',\n",
       "       ...,\n",
       "       'pesan resmi anda dapatkan hadiah juta dri mkios pin info klik www hadiah mkios blogspot com',\n",
       "       'shopee grandprize selamat anda adalah pemenang jutawan shopee juta dengan aaq info klik www infoshopee miliar blogspot com',\n",
       "       'promo hadiah whatsapp selamat whatsapp anda meraih hadiah pemenang pin adtr cek hadiah anda www hadiahwhatsap blogspot com'],\n",
       "      dtype=object)"
      ]
     },
     "execution_count": 5,
     "metadata": {},
     "output_type": "execute_result"
    }
   ],
   "source": [
    "# message\n",
    "messages = df.values[:, 1]\n",
    "messages"
   ]
  },
  {
   "cell_type": "code",
   "execution_count": 6,
   "metadata": {},
   "outputs": [],
   "source": [
    "MAXLEN = 50 # max words per message\n",
    "MAX_WORDS = 10000 # max number of words to have in vocabulary"
   ]
  },
  {
   "cell_type": "code",
   "execution_count": 7,
   "metadata": {},
   "outputs": [
    {
     "data": {
      "text/plain": [
       "(2741, 50)"
      ]
     },
     "execution_count": 7,
     "metadata": {},
     "output_type": "execute_result"
    }
   ],
   "source": [
    "# create tokenizer\n",
    "def tokenize_texts(texts, max_words):\n",
    "    tokenizer = Tokenizer(num_words=max_words)\n",
    "    tokenizer.fit_on_texts(texts)\n",
    "    tokens = tokenizer.texts_to_sequences(texts)\n",
    "    word_index = tokenizer.word_index\n",
    "    return tokens, word_index\n",
    "\n",
    "tokens, word_index = tokenize_texts(messages, MAX_WORDS)\n",
    "\n",
    "# convert tokens into fixed length tensor (dataset for training)\n",
    "data = pad_sequences(tokens, maxlen=MAXLEN)\n",
    "data.shape"
   ]
  },
  {
   "cell_type": "code",
   "execution_count": 8,
   "metadata": {},
   "outputs": [
    {
     "data": {
      "text/plain": [
       "array([   0,    0,    0,    0,    0,    0,    0,    0,    0,    0,    0,\n",
       "          0,    0,    0,    0,    0,    0,    0,    0,    0,    0,    0,\n",
       "          0,    0,    0,    0,    0,    0,    0,    0,    0,    0,    0,\n",
       "          0,    0,    0,    0,    0, 2296,   14,    1,   74,    5,    9,\n",
       "         37,    6,    2,    3,   80,    5], dtype=int32)"
      ]
     },
     "execution_count": 8,
     "metadata": {},
     "output_type": "execute_result"
    }
   ],
   "source": [
    "data[0]"
   ]
  },
  {
   "cell_type": "code",
   "execution_count": 9,
   "metadata": {},
   "outputs": [
    {
     "data": {
      "text/plain": [
       "1"
      ]
     },
     "execution_count": 9,
     "metadata": {},
     "output_type": "execute_result"
    }
   ],
   "source": [
    "word_index['anda']"
   ]
  },
  {
   "cell_type": "code",
   "execution_count": 10,
   "metadata": {},
   "outputs": [],
   "source": [
    "# Shuffles data\n",
    "indices = np.arange(data.shape[0])\n",
    "np.random.shuffle(indices)\n",
    "\n",
    "labels = labels[indices]\n",
    "data = data[indices]"
   ]
  },
  {
   "cell_type": "code",
   "execution_count": 71,
   "metadata": {},
   "outputs": [],
   "source": [
    "# split data and labels for training and test\n",
    "# training: the first 2000 data\n",
    "x_train = data[:2000]\n",
    "y_train = labels[:2000]\n",
    "\n",
    "# test: the rest of the data\n",
    "x_test = data[2000:]\n",
    "y_test = labels[2000:]"
   ]
  },
  {
   "cell_type": "code",
   "execution_count": 72,
   "metadata": {},
   "outputs": [],
   "source": [
    "# create model\n",
    "def get_model():\n",
    "    model = models.Sequential([\n",
    "        layers.Embedding(MAX_WORDS, 8, input_length=MAXLEN), # 8 embedding dimension\n",
    "        layers.Flatten(),\n",
    "        layers.Dense(4, activation='softmax') # 4 probability output\n",
    "    ])\n",
    "    model.compile(optimizer='rmsprop', loss='sparse_categorical_crossentropy', metrics=['acc'])\n",
    "    return model\n",
    "\n",
    "model = get_model()"
   ]
  },
  {
   "cell_type": "code",
   "execution_count": 73,
   "metadata": {},
   "outputs": [
    {
     "name": "stdout",
     "output_type": "stream",
     "text": [
      "Epoch 1/75\n",
      "4/4 [==============================] - 0s 26ms/step - loss: 1.3630 - acc: 0.4644 - val_loss: 1.3187 - val_acc: 0.5475\n",
      "Epoch 2/75\n",
      "4/4 [==============================] - 0s 5ms/step - loss: 1.3012 - acc: 0.5437 - val_loss: 1.2692 - val_acc: 0.5475\n",
      "Epoch 3/75\n",
      "4/4 [==============================] - 0s 5ms/step - loss: 1.2499 - acc: 0.5437 - val_loss: 1.2220 - val_acc: 0.5475\n",
      "Epoch 4/75\n",
      "4/4 [==============================] - 0s 5ms/step - loss: 1.2013 - acc: 0.5437 - val_loss: 1.1758 - val_acc: 0.5475\n",
      "Epoch 5/75\n",
      "4/4 [==============================] - 0s 5ms/step - loss: 1.1556 - acc: 0.5437 - val_loss: 1.1388 - val_acc: 0.5475\n",
      "Epoch 6/75\n",
      "4/4 [==============================] - 0s 5ms/step - loss: 1.1176 - acc: 0.5437 - val_loss: 1.1000 - val_acc: 0.5475\n",
      "Epoch 7/75\n",
      "4/4 [==============================] - 0s 5ms/step - loss: 1.0798 - acc: 0.5437 - val_loss: 1.0688 - val_acc: 0.5475\n",
      "Epoch 8/75\n",
      "4/4 [==============================] - 0s 5ms/step - loss: 1.0491 - acc: 0.5437 - val_loss: 1.0456 - val_acc: 0.5475\n",
      "Epoch 9/75\n",
      "4/4 [==============================] - 0s 5ms/step - loss: 1.0239 - acc: 0.5437 - val_loss: 1.0198 - val_acc: 0.5475\n",
      "Epoch 10/75\n",
      "4/4 [==============================] - 0s 5ms/step - loss: 0.9971 - acc: 0.5437 - val_loss: 0.9969 - val_acc: 0.5475\n",
      "Epoch 11/75\n",
      "4/4 [==============================] - 0s 5ms/step - loss: 0.9730 - acc: 0.5437 - val_loss: 0.9764 - val_acc: 0.5475\n",
      "Epoch 12/75\n",
      "4/4 [==============================] - 0s 5ms/step - loss: 0.9488 - acc: 0.5437 - val_loss: 0.9550 - val_acc: 0.5475\n",
      "Epoch 13/75\n",
      "4/4 [==============================] - 0s 5ms/step - loss: 0.9246 - acc: 0.5437 - val_loss: 0.9329 - val_acc: 0.5475\n",
      "Epoch 14/75\n",
      "4/4 [==============================] - 0s 5ms/step - loss: 0.8998 - acc: 0.5450 - val_loss: 0.9106 - val_acc: 0.5575\n",
      "Epoch 15/75\n",
      "4/4 [==============================] - 0s 5ms/step - loss: 0.8747 - acc: 0.5625 - val_loss: 0.8866 - val_acc: 0.5900\n",
      "Epoch 16/75\n",
      "4/4 [==============================] - 0s 5ms/step - loss: 0.8483 - acc: 0.6400 - val_loss: 0.8631 - val_acc: 0.5925\n",
      "Epoch 17/75\n",
      "4/4 [==============================] - 0s 5ms/step - loss: 0.8218 - acc: 0.6556 - val_loss: 0.8399 - val_acc: 0.6025\n",
      "Epoch 18/75\n",
      "4/4 [==============================] - 0s 5ms/step - loss: 0.7952 - acc: 0.6800 - val_loss: 0.8171 - val_acc: 0.6825\n",
      "Epoch 19/75\n",
      "4/4 [==============================] - 0s 6ms/step - loss: 0.7684 - acc: 0.7481 - val_loss: 0.7945 - val_acc: 0.7150\n",
      "Epoch 20/75\n",
      "4/4 [==============================] - 0s 5ms/step - loss: 0.7415 - acc: 0.7800 - val_loss: 0.7700 - val_acc: 0.7300\n",
      "Epoch 21/75\n",
      "4/4 [==============================] - 0s 5ms/step - loss: 0.7160 - acc: 0.7919 - val_loss: 0.7467 - val_acc: 0.7700\n",
      "Epoch 22/75\n",
      "4/4 [==============================] - 0s 5ms/step - loss: 0.6894 - acc: 0.8131 - val_loss: 0.7256 - val_acc: 0.7900\n",
      "Epoch 23/75\n",
      "4/4 [==============================] - 0s 5ms/step - loss: 0.6639 - acc: 0.8325 - val_loss: 0.7034 - val_acc: 0.8225\n",
      "Epoch 24/75\n",
      "4/4 [==============================] - 0s 5ms/step - loss: 0.6391 - acc: 0.8487 - val_loss: 0.6809 - val_acc: 0.8425\n",
      "Epoch 25/75\n",
      "4/4 [==============================] - 0s 5ms/step - loss: 0.6143 - acc: 0.8619 - val_loss: 0.6605 - val_acc: 0.8600\n",
      "Epoch 26/75\n",
      "4/4 [==============================] - 0s 5ms/step - loss: 0.5898 - acc: 0.8813 - val_loss: 0.6388 - val_acc: 0.8600\n",
      "Epoch 27/75\n",
      "4/4 [==============================] - 0s 5ms/step - loss: 0.5668 - acc: 0.8813 - val_loss: 0.6204 - val_acc: 0.8725\n",
      "Epoch 28/75\n",
      "4/4 [==============================] - 0s 5ms/step - loss: 0.5441 - acc: 0.8931 - val_loss: 0.6008 - val_acc: 0.8775\n",
      "Epoch 29/75\n",
      "4/4 [==============================] - 0s 6ms/step - loss: 0.5223 - acc: 0.8969 - val_loss: 0.5829 - val_acc: 0.8900\n",
      "Epoch 30/75\n",
      "4/4 [==============================] - 0s 6ms/step - loss: 0.5010 - acc: 0.9094 - val_loss: 0.5634 - val_acc: 0.8900\n",
      "Epoch 31/75\n",
      "4/4 [==============================] - 0s 6ms/step - loss: 0.4799 - acc: 0.9119 - val_loss: 0.5445 - val_acc: 0.8875\n",
      "Epoch 32/75\n",
      "4/4 [==============================] - 0s 5ms/step - loss: 0.4600 - acc: 0.9169 - val_loss: 0.5282 - val_acc: 0.8875\n",
      "Epoch 33/75\n",
      "4/4 [==============================] - 0s 5ms/step - loss: 0.4408 - acc: 0.9194 - val_loss: 0.5124 - val_acc: 0.9025\n",
      "Epoch 34/75\n",
      "4/4 [==============================] - 0s 4ms/step - loss: 0.4225 - acc: 0.9225 - val_loss: 0.4948 - val_acc: 0.9000\n",
      "Epoch 35/75\n",
      "4/4 [==============================] - 0s 4ms/step - loss: 0.4045 - acc: 0.9237 - val_loss: 0.4805 - val_acc: 0.9025\n",
      "Epoch 36/75\n",
      "4/4 [==============================] - 0s 5ms/step - loss: 0.3874 - acc: 0.9294 - val_loss: 0.4656 - val_acc: 0.9100\n",
      "Epoch 37/75\n",
      "4/4 [==============================] - 0s 5ms/step - loss: 0.3708 - acc: 0.9369 - val_loss: 0.4511 - val_acc: 0.9100\n",
      "Epoch 38/75\n",
      "4/4 [==============================] - 0s 5ms/step - loss: 0.3551 - acc: 0.9381 - val_loss: 0.4373 - val_acc: 0.9075\n",
      "Epoch 39/75\n",
      "4/4 [==============================] - 0s 4ms/step - loss: 0.3399 - acc: 0.9394 - val_loss: 0.4255 - val_acc: 0.9100\n",
      "Epoch 40/75\n",
      "4/4 [==============================] - 0s 5ms/step - loss: 0.3245 - acc: 0.9463 - val_loss: 0.4131 - val_acc: 0.9125\n",
      "Epoch 41/75\n",
      "4/4 [==============================] - 0s 4ms/step - loss: 0.3104 - acc: 0.9469 - val_loss: 0.4015 - val_acc: 0.9125\n",
      "Epoch 42/75\n",
      "4/4 [==============================] - 0s 4ms/step - loss: 0.2965 - acc: 0.9525 - val_loss: 0.3920 - val_acc: 0.9175\n",
      "Epoch 43/75\n",
      "4/4 [==============================] - 0s 5ms/step - loss: 0.2836 - acc: 0.9581 - val_loss: 0.3807 - val_acc: 0.9250\n",
      "Epoch 44/75\n",
      "4/4 [==============================] - 0s 5ms/step - loss: 0.2710 - acc: 0.9625 - val_loss: 0.3711 - val_acc: 0.9250\n",
      "Epoch 45/75\n",
      "4/4 [==============================] - 0s 5ms/step - loss: 0.2591 - acc: 0.9650 - val_loss: 0.3623 - val_acc: 0.9275\n",
      "Epoch 46/75\n",
      "4/4 [==============================] - 0s 4ms/step - loss: 0.2476 - acc: 0.9675 - val_loss: 0.3512 - val_acc: 0.9275\n",
      "Epoch 47/75\n",
      "4/4 [==============================] - 0s 5ms/step - loss: 0.2367 - acc: 0.9675 - val_loss: 0.3415 - val_acc: 0.9275\n",
      "Epoch 48/75\n",
      "4/4 [==============================] - 0s 5ms/step - loss: 0.2263 - acc: 0.9706 - val_loss: 0.3335 - val_acc: 0.9275\n",
      "Epoch 49/75\n",
      "4/4 [==============================] - 0s 5ms/step - loss: 0.2162 - acc: 0.9706 - val_loss: 0.3253 - val_acc: 0.9275\n",
      "Epoch 50/75\n",
      "4/4 [==============================] - 0s 5ms/step - loss: 0.2068 - acc: 0.9712 - val_loss: 0.3177 - val_acc: 0.9250\n",
      "Epoch 51/75\n",
      "4/4 [==============================] - 0s 5ms/step - loss: 0.1974 - acc: 0.9731 - val_loss: 0.3084 - val_acc: 0.9275\n",
      "Epoch 52/75\n",
      "4/4 [==============================] - 0s 5ms/step - loss: 0.1886 - acc: 0.9737 - val_loss: 0.3022 - val_acc: 0.9250\n",
      "Epoch 53/75\n",
      "4/4 [==============================] - 0s 5ms/step - loss: 0.1800 - acc: 0.9762 - val_loss: 0.2957 - val_acc: 0.9275\n",
      "Epoch 54/75\n",
      "4/4 [==============================] - 0s 5ms/step - loss: 0.1720 - acc: 0.9787 - val_loss: 0.2896 - val_acc: 0.9275\n",
      "Epoch 55/75\n",
      "4/4 [==============================] - 0s 6ms/step - loss: 0.1643 - acc: 0.9781 - val_loss: 0.2814 - val_acc: 0.9275\n",
      "Epoch 56/75\n",
      "4/4 [==============================] - 0s 6ms/step - loss: 0.1567 - acc: 0.9794 - val_loss: 0.2751 - val_acc: 0.9275\n",
      "Epoch 57/75\n",
      "4/4 [==============================] - 0s 5ms/step - loss: 0.1498 - acc: 0.9812 - val_loss: 0.2698 - val_acc: 0.9325\n",
      "Epoch 58/75\n",
      "4/4 [==============================] - 0s 5ms/step - loss: 0.1428 - acc: 0.9831 - val_loss: 0.2637 - val_acc: 0.9325\n",
      "Epoch 59/75\n",
      "4/4 [==============================] - 0s 5ms/step - loss: 0.1365 - acc: 0.9831 - val_loss: 0.2583 - val_acc: 0.9325\n",
      "Epoch 60/75\n",
      "4/4 [==============================] - 0s 5ms/step - loss: 0.1305 - acc: 0.9844 - val_loss: 0.2530 - val_acc: 0.9325\n",
      "Epoch 61/75\n",
      "4/4 [==============================] - 0s 5ms/step - loss: 0.1249 - acc: 0.9844 - val_loss: 0.2499 - val_acc: 0.9300\n",
      "Epoch 62/75\n",
      "4/4 [==============================] - 0s 5ms/step - loss: 0.1191 - acc: 0.9856 - val_loss: 0.2436 - val_acc: 0.9325\n",
      "Epoch 63/75\n",
      "4/4 [==============================] - 0s 5ms/step - loss: 0.1139 - acc: 0.9850 - val_loss: 0.2403 - val_acc: 0.9350\n",
      "Epoch 64/75\n"
     ]
    },
    {
     "name": "stdout",
     "output_type": "stream",
     "text": [
      "4/4 [==============================] - 0s 5ms/step - loss: 0.1086 - acc: 0.9856 - val_loss: 0.2354 - val_acc: 0.9350\n",
      "Epoch 65/75\n",
      "4/4 [==============================] - 0s 5ms/step - loss: 0.1038 - acc: 0.9862 - val_loss: 0.2309 - val_acc: 0.9350\n",
      "Epoch 66/75\n",
      "4/4 [==============================] - 0s 5ms/step - loss: 0.0992 - acc: 0.9869 - val_loss: 0.2271 - val_acc: 0.9400\n",
      "Epoch 67/75\n",
      "4/4 [==============================] - 0s 5ms/step - loss: 0.0946 - acc: 0.9875 - val_loss: 0.2233 - val_acc: 0.9400\n",
      "Epoch 68/75\n",
      "4/4 [==============================] - 0s 5ms/step - loss: 0.0905 - acc: 0.9869 - val_loss: 0.2216 - val_acc: 0.9375\n",
      "Epoch 69/75\n",
      "4/4 [==============================] - 0s 6ms/step - loss: 0.0861 - acc: 0.9881 - val_loss: 0.2175 - val_acc: 0.9350\n",
      "Epoch 70/75\n",
      "4/4 [==============================] - 0s 5ms/step - loss: 0.0823 - acc: 0.9887 - val_loss: 0.2156 - val_acc: 0.9325\n",
      "Epoch 71/75\n",
      "4/4 [==============================] - 0s 5ms/step - loss: 0.0784 - acc: 0.9894 - val_loss: 0.2118 - val_acc: 0.9350\n",
      "Epoch 72/75\n",
      "4/4 [==============================] - 0s 5ms/step - loss: 0.0748 - acc: 0.9906 - val_loss: 0.2110 - val_acc: 0.9325\n",
      "Epoch 73/75\n",
      "4/4 [==============================] - 0s 5ms/step - loss: 0.0714 - acc: 0.9912 - val_loss: 0.2089 - val_acc: 0.9350\n",
      "Epoch 74/75\n",
      "4/4 [==============================] - 0s 5ms/step - loss: 0.0683 - acc: 0.9906 - val_loss: 0.2053 - val_acc: 0.9350\n",
      "Epoch 75/75\n",
      "4/4 [==============================] - 0s 5ms/step - loss: 0.0651 - acc: 0.9912 - val_loss: 0.2025 - val_acc: 0.9350\n"
     ]
    }
   ],
   "source": [
    "# Train the model\n",
    "EPOCHS = 75\n",
    "hist = model.fit(x_train, y_train, epochs=EPOCHS, batch_size=512, validation_split=0.2)"
   ]
  },
  {
   "cell_type": "code",
   "execution_count": 74,
   "metadata": {},
   "outputs": [
    {
     "data": {
      "image/png": "[encoded data removed]",
      "text/plain": [
       "<Figure size 432x288 with 1 Axes>"
      ]
     },
     "metadata": {
      "needs_background": "light"
     },
     "output_type": "display_data"
    },
    {
     "data": {
      "image/png": "[encoded data removed]",
      "text/plain": [
       "<Figure size 432x288 with 1 Axes>"
      ]
     },
     "metadata": {
      "needs_background": "light"
     },
     "output_type": "display_data"
    }
   ],
   "source": [
    "history = hist.history\n",
    "\n",
    "train_loss = history['loss']\n",
    "val_loss = history['val_loss']\n",
    "\n",
    "train_acc = history['acc']\n",
    "val_acc = history['val_acc']\n",
    "\n",
    "plt.plot(range(1, EPOCHS+1), train_loss, 'b', label='Training loss')\n",
    "plt.plot(range(1, EPOCHS+1), val_loss, 'bo', label='Validation loss')\n",
    "plt.legend()\n",
    "plt.show()\n",
    "\n",
    "plt.plot(range(1, EPOCHS+1), train_acc, 'b', label='Training acc')\n",
    "plt.plot(range(1, EPOCHS+1), val_acc, 'bo', label='Validation acc')\n",
    "plt.legend()\n",
    "plt.show()"
   ]
  },
  {
   "cell_type": "code",
   "execution_count": 75,
   "metadata": {},
   "outputs": [
    {
     "name": "stdout",
     "output_type": "stream",
     "text": [
      "24/24 [==============================] - 0s 540us/step - loss: 0.2192 - acc: 0.9366\n"
     ]
    },
    {
     "data": {
      "text/plain": [
       "[0.21923702955245972, 0.9365721940994263]"
      ]
     },
     "execution_count": 75,
     "metadata": {},
     "output_type": "execute_result"
    }
   ],
   "source": [
    "model.evaluate(x_test, y_test)"
   ]
  },
  {
   "cell_type": "code",
   "execution_count": 76,
   "metadata": {},
   "outputs": [],
   "source": [
    "predictions = model.predict(x_test)"
   ]
  },
  {
   "cell_type": "code",
   "execution_count": 77,
   "metadata": {},
   "outputs": [],
   "source": [
    "reverse_word_index = dict([(index, word) for (word, index) in word_index.items()])"
   ]
  },
  {
   "cell_type": "code",
   "execution_count": 80,
   "metadata": {},
   "outputs": [
    {
     "name": "stdout",
     "output_type": "stream",
     "text": [
      "\"punya angka mimpi pasang aja hanomantoto hadiah hadiah prize dan prize dibayar segera daftar jandahoki com\"\n",
      "> True label: 1.0\n",
      "> Pred label: 0 (55.46%)\n",
      "\n",
      "\n",
      "\"gebyar telkomsel anda men dptkan cek pin info klik www bit gebyar tsl\"\n",
      "> True label: 0.0\n",
      "> Pred label: 0 (99.50%)\n",
      "\n",
      "\n",
      "\"info resmi dri mkios sim card anda terpilih pemenang hadiah cek berkat isi ulang pulsa pin ijh info klik line tiny undianmkios\"\n",
      "> True label: 0.0\n",
      "> Pred label: 0 (99.95%)\n",
      "\n",
      "\n",
      "\"sdh keluar supertext utk kembali dalam grup ini ketik mulai krm nomor grup atau buat grup kamu baru ketik gabung krm\"\n",
      "> True label: 0.0\n",
      "> Pred label: 0 (94.32%)\n",
      "\n",
      "\n",
      "\"raih nus referral cardgames hingga batikp ker http dengan permainan terbaik dragon tiger poker dealer serta gel taiwan hongkong\"\n",
      "> True label: 1.0\n",
      "> Pred label: 1 (98.18%)\n",
      "\n",
      "\n",
      "\"maaf lewat sms apabila kontrakannya msh dilanjutkan pembayarannya lewat adik saya pak agus soalnya sdh saya pindah tangankan dia\"\n",
      "> True label: 0.0\n",
      "> Pred label: 0 (99.44%)\n",
      "\n",
      "\n",
      "\"anda memiliki pesan belum baca dari nomor untuk buka pesan nya ketik sms tpy kirim gratis\"\n",
      "> True label: 0.0\n",
      "> Pred label: 0 (97.05%)\n",
      "\n",
      "\n",
      "\"bingung cari permainan kartu yang terpercaya dan terbesar jayapoker http menyediakan permainan domino texaspoker ceme dan gel\"\n",
      "> True label: 1.0\n",
      "> Pred label: 1 (94.14%)\n",
      "\n",
      "\n",
      "\"berkat isi ulang kios anda xxxx terpilih mendapat hadiah inv anda utk info klik promomkios website tdk dipungut biaya\"\n",
      "> True label: 0.0\n",
      "> Pred label: 0 (99.41%)\n",
      "\n",
      "\n",
      "\"pinjaman untuk modal usaha dll terdaftar dan diawasi ojk fasilitas pinjaman juta cair dalam waktu jam minat\"\n",
      "> True label: 2.0\n",
      "> Pred label: 2 (73.51%)\n",
      "\n",
      "\n",
      "\"pesan resmi selamat kepada bapak ibu anda menang cek tabungan juta pin cek info tiny shopee hut\"\n",
      "> True label: 0.0\n",
      "> Pred label: 0 (98.16%)\n",
      "\n",
      "\n",
      "\"dana cepat penggadaian resmi mobil truk bunga mulai tidak cek ana\"\n",
      "> True label: 2.0\n",
      "> Pred label: 2 (96.64%)\n",
      "\n",
      "\n",
      "\"hanya ksp sejahtera bersama hadir memberikan solusi bagi bpk ibu butuh dana cepat tampa jaminan amanah chat\"\n",
      "> True label: 2.0\n",
      "> Pred label: 2 (94.75%)\n",
      "\n",
      "\n",
      "\"info resmi shopee anda dapatkan hadiah juta pin pemenang info hadiah klik www kejutan shopee blogspot com\"\n",
      "> True label: 0.0\n",
      "> Pred label: 0 (99.91%)\n",
      "\n",
      "\n",
      "\"slmt anda men dptkan hadiah dari lazada pin pemenang info klik www lazada blogspot com\"\n",
      "> True label: 0.0\n",
      "> Pred label: 0 (99.97%)\n",
      "\n",
      "\n",
      "\"mau bonus besar bergabung bersama djarumsoccer agen judi online terpercaya memberikan bonus member baru penawaran terbatas klik http bit\"\n",
      "> True label: 1.0\n",
      "> Pred label: 1 (80.65%)\n",
      "\n",
      "\n",
      "\"pesan resmi dari lazada slmat anda dapatkan hadiah juta dari lazada code kbr info klik www promo lazada blogspot com\"\n",
      "> True label: 0.0\n",
      "> Pred label: 0 (99.93%)\n",
      "\n",
      "\n",
      "\"selamat anda dpakan hadiah lazada juta code anda kbr info klik www undian lazada blogspot com\"\n",
      "> True label: 0.0\n",
      "> Pred label: 0 (99.89%)\n",
      "\n",
      "\n",
      "\"tingkat hoki sudah naikan kartu bagus telah dibagikan jangan tunda kemenangan besar hari ini juga taipandomino com salam hoki taipanqq\"\n",
      "> True label: 1.0\n",
      "> Pred label: 1 (91.76%)\n",
      "\n",
      "\n",
      "\"anda punya masalah sprti dililit hutang biaya rmh tangga modal usaha dll untuk lebih jelas silhkan klik https bit bsaokv whatsapp\"\n",
      "> True label: 0.0\n",
      "> Pred label: 0 (92.32%)\n",
      "\n",
      "\n",
      "\"bantuan dana dengan jaminan bpkb tnp cek takeover rate mulai dibantu sampai cair cabang slrh indonesia elsa http bit pcb\"\n",
      "> True label: 2.0\n",
      "> Pred label: 2 (96.33%)\n",
      "\n",
      "\n",
      "\"grandprize lazada mengucapkan selamat anda mendapatkan hadiah dari lazada pin undiang info klik bit ptlazada\"\n",
      "> True label: 0.0\n",
      "> Pred label: 0 (99.84%)\n",
      "\n",
      "\n",
      "\"ass kpd yth bpk ibu kami menawarkan barang lelang jatuh tempo dari pegadaian barang berkualitas original info bit pegadaianpusatid\"\n",
      "> True label: 0.0\n",
      "> Pred label: 2 (68.84%)\n",
      "\n",
      "\n",
      "\"kouta flash anda terpilih sebangai pemenang cek pin anda info klik www bit gebyar tsl\"\n",
      "> True label: 0.0\n",
      "> Pred label: 0 (99.89%)\n",
      "\n",
      "\n",
      "\"mainkan permainan tangkas ngd drag tig singap taiwan disk hingga rasp ker http\"\n",
      "> True label: 1.0\n",
      "> Pred label: 1 (91.27%)\n",
      "\n",
      "\n",
      "\"nomor whatsapp anda mendaptkn kode whatsapp anda info klik https bit wst\"\n",
      "> True label: 0.0\n",
      "> Pred label: 0 (98.00%)\n",
      "\n",
      "\n",
      "\"yth anda resmi memenangkan undian cek tunai dari program lazada silhkan verifikasi pin anda aad info klik www programundian\"\n",
      "> True label: 0.0\n",
      "> Pred label: 0 (99.91%)\n",
      "\n",
      "\n",
      "\"grandprize shopee selamat anda adalah pemenang jutawan shopee cek tunai dgn aaq info klik situs kami www hadiahpestashopee blogspot com\"\n",
      "> True label: 0.0\n",
      "> Pred label: 0 (99.67%)\n",
      "\n",
      "\n",
      "\"lindungi aset pribadi anda rumah toko kantor gudang dll dengan cctv berkualitas garansi bisa dipantau via dptkan cashback hub\"\n",
      "> True label: 3.0\n",
      "> Pred label: 3 (36.58%)\n",
      "\n",
      "\n",
      "\"yth pemenang lazada anda dptkan hadiah cek senilai pin info pengambilan hadiah klik www hadiahlazada blogspot com\"\n",
      "> True label: 0.0\n",
      "> Pred label: 0 (99.94%)\n",
      "\n",
      "\n",
      "\"butuh modal usaha menawarkan dana berbasis online min pinjaman info chat\"\n",
      "> True label: 2.0\n",
      "> Pred label: 2 (97.98%)\n",
      "\n",
      "\n",
      "\"info resmi selamat anda dptkan cek tunai pin anda ijh info hadiah klik tiny hadiahmkios\"\n",
      "> True label: 0.0\n",
      "> Pred label: 0 (99.75%)\n",
      "\n",
      "\n",
      "\"segera daftarkan diri anda egcc judi online nikmati bonus new member live chat https bit bgr line egc indo code promo\"\n",
      "> True label: 1.0\n",
      "> Pred label: 1 (50.12%)\n",
      "\n",
      "\n",
      "\"yth pelanggan nomor selamat anda berkesempatan mendapatkan hadiah pulsa dri kami untuk ambil hadiah segera hubungi sekarang juga\"\n",
      "> True label: 0.0\n",
      "> Pred label: 0 (98.05%)\n",
      "\n",
      "\n",
      "\"anda butuh dana pinjaman bunga berbasis online jamin aman cepat info chat whatsapp\"\n",
      "> True label: 2.0\n",
      "> Pred label: 2 (97.65%)\n",
      "\n",
      "\n",
      "\"ini rekeningnya bank bni sdr alias aris rek\"\n",
      "> True label: 0.0\n",
      "> Pred label: 0 (86.52%)\n",
      "\n",
      "\n",
      "\"anda pusing kekurang uang dililit utang biaya rumah tangga impian tidak terwujud dll info atw klik www suksescardakses blogspot com\"\n",
      "> True label: 0.0\n",
      "> Pred label: 0 (99.05%)\n",
      "\n",
      "\n",
      "\"pelanggan yth selamat nmor anda resmi men dpt hadiah dari mkios berkat isi pulsa dengan pin ijh info klik bit pemenangmkios\"\n",
      "> True label: 0.0\n",
      "> Pred label: 0 (99.83%)\n",
      "\n",
      "\n",
      "\"nomor anda didaftar auto oleh anda akan ngirimkan pulsa tiap tgl berhenti ketik kirim gratis\"\n",
      "> True label: 0.0\n",
      "> Pred label: 0 (99.29%)\n",
      "\n",
      "\n",
      "\"solusi pinjaman dana jaminan bpkb mobil takeover tdk cek mulai dbantu smpai cair cashback elsa http bit pcb\"\n",
      "> True label: 2.0\n",
      "> Pred label: 2 (98.51%)\n",
      "\n",
      "\n",
      "\"slamat anda pemenan undian shopee birth day code info undiah klik dib wnah ini grandprize\"\n",
      "> True label: 0.0\n",
      "> Pred label: 0 (99.01%)\n",
      "\n",
      "\n",
      "\"perlu dana mdal usha cpt prosses hri cek bnga mlai bsa dri bank lsng hub lia bsa jaminanb bfi fnince\"\n",
      "> True label: 2.0\n",
      "> Pred label: 2 (76.19%)\n",
      "\n",
      "\n",
      "\"terimakasih rbtmu sdh diperpanjang tambah rbt lain stop ktk unsub info\"\n",
      "> True label: 3.0\n",
      "> Pred label: 0 (43.32%)\n",
      "\n",
      "\n",
      "\"info resmi anda memenangkan dari lazada indonesia code pemenang anda www program promolazada blogspot com\"\n",
      "> True label: 0.0\n",
      "> Pred label: 0 (99.76%)\n",
      "\n",
      "\n",
      "\"solusi cepat mengatasi keuangan agunan bpkb mobil truk takeover tdk cek rate bln cashback gerry http bit dyzovu\"\n",
      "> True label: 2.0\n",
      "> Pred label: 2 (98.08%)\n",
      "\n",
      "\n",
      "\"berkah pulsa cari agen kios all operator ketik daftar join nama alamat anda sms daftar lewat\"\n",
      "> True label: 3.0\n",
      "> Pred label: 3 (47.98%)\n",
      "\n",
      "\n",
      "\"info penutupan kta dengan cara dicicil sesuai kemampuan discount dan clear cheking hub asya\"\n",
      "> True label: 2.0\n",
      "> Pred label: 2 (94.50%)\n",
      "\n",
      "\n",
      "\"gadai bpkb motor mobil pick truck proses cepat aman bisa take over bunga mulai non checking info yusuf\"\n",
      "> True label: 2.0\n",
      "> Pred label: 2 (99.75%)\n",
      "\n",
      "\n",
      "\"gadai mobil truck anda finance resmi tdk cek bisa over hub dian\"\n",
      "> True label: 2.0\n",
      "> Pred label: 2 (96.55%)\n",
      "\n",
      "\n",
      "\"cek jika ini anda segera hubungi dan pilih karena ada kesempatan dpt gratis pulsa berkali infoseleb\"\n",
      "> True label: 0.0\n",
      "> Pred label: 0 (90.81%)\n",
      "\n",
      "\n"
     ]
    }
   ],
   "source": [
    "# display some predictions\n",
    "for i in range(50):\n",
    "    pred = predictions[i]\n",
    "    pred_label = np.argmax(pred) # index of the higest value (same as label)\n",
    "    true_label = y_test[i]\n",
    "    message = ' '.join([reverse_word_index.get(w, '') for w in x_test[i].tolist()])\n",
    "    confident_level = predictions[i, pred_label] * 100\n",
    "    \n",
    "    print('\"{}\"\\n> True label: {}\\n> Pred label: {} ({:.2f}%)\\n\\n'.format(message.strip(), true_label, pred_label, confident_level))"
   ]
  },
  {
   "cell_type": "code",
   "execution_count": null,
   "metadata": {},
   "outputs": [],
   "source": []
  }
 ],
 "metadata": {
  "kernelspec": {
   "display_name": "Python 3",
   "language": "python",
   "name": "python3"
  },
  "language_info": {
   "codemirror_mode": {
    "name": "ipython",
    "version": 3
   },
   "file_extension": ".py",
   "mimetype": "text/x-python",
   "name": "python",
   "nbconvert_exporter": "python",
   "pygments_lexer": "ipython3",
   "version": "3.8.5"
  }
 },
 "nbformat": 4,
 "nbformat_minor": 4
}
