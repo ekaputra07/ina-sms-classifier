{
 "cells": [
  {
   "cell_type": "code",
   "execution_count": 1,
   "metadata": {},
   "outputs": [],
   "source": [
    "import re\n",
    "import pickle\n",
    "import numpy as np\n",
    "from tensorflow.keras.models import load_model\n",
    "from tensorflow.keras.preprocessing.sequence import pad_sequences\n",
    "\n",
    "TOKENIZER_PATH = '../model/tokenizer.pkl'\n",
    "MODEL_PATH = '../model/latest'\n",
    "\n",
    "\n",
    "# load tokenizer\n",
    "tokenizer = None\n",
    "with open(TOKENIZER_PATH, 'rb') as f:\n",
    "    tokenizer = pickle.load(f)\n",
    "    \n",
    "# load model\n",
    "model = load_model(MODEL_PATH)\n",
    "\n",
    "def basic_cleaning(text):\n",
    "    # get all words (ignore number)\n",
    "    words = re.findall(\"[a-zA-Z]+\", str(text))\n",
    "\n",
    "    # take words that has length > 2\n",
    "    filtered = filter(lambda w: len(w) > 2, words)\n",
    "    return ' '.join(filtered)\n",
    "\n",
    "def predict_text(text):\n",
    "    labels = {\n",
    "        0: 'PENIPUAN',\n",
    "        1: 'JUDI ONLINE',\n",
    "        2: 'KTA/PINJAMAN ONLINE',\n",
    "        3: 'LAIN-LAIN'\n",
    "    }\n",
    "    \n",
    "    cleaned_text = basic_cleaning(text)\n",
    "    tokenized_text = tokenizer.texts_to_sequences([cleaned_text])\n",
    "    paded_sequences = pad_sequences(tokenized_text, 50)\n",
    "    pred = model.predict(paded_sequences)\n",
    "    return labels.get(np.argmax(pred)), pred[0, np.argmax(pred)]"
   ]
  },
  {
   "cell_type": "code",
   "execution_count": 2,
   "metadata": {},
   "outputs": [
    {
     "data": {
      "text/plain": [
       "('LAIN-LAIN', 0.3933378)"
      ]
     },
     "execution_count": 2,
     "metadata": {},
     "output_type": "execute_result"
    }
   ],
   "source": [
    "predict_text(\"Gratis akses Youtube + 1GB selama setahun hanya cukup isi pulsa 25rb/bln tanpa potong pulsa, balas sms ini ketik UL1\")"
   ]
  },
  {
   "cell_type": "code",
   "execution_count": 3,
   "metadata": {},
   "outputs": [
    {
     "data": {
      "text/plain": [
       "('PENIPUAN', 0.6701171)"
      ]
     },
     "execution_count": 3,
     "metadata": {},
     "output_type": "execute_result"
    }
   ],
   "source": [
    "predict_text(\"Apa kabar bos?\")"
   ]
  },
  {
   "cell_type": "code",
   "execution_count": 4,
   "metadata": {},
   "outputs": [
    {
     "data": {
      "text/plain": [
       "('JUDI ONLINE', 0.94886315)"
      ]
     },
     "execution_count": 4,
     "metadata": {},
     "output_type": "execute_result"
    }
   ],
   "source": [
    "predict_text(\"Cari Link Resmi Mudah Menang? Supertaipan99.com Solusinya Dengan Winrate Di Atas Rata2 & Tarikan Meja Hingga Ratusan juta! Info Lanjut WA:+62 823-3409-6248\")"
   ]
  },
  {
   "cell_type": "code",
   "execution_count": 5,
   "metadata": {},
   "outputs": [
    {
     "data": {
      "text/plain": [
       "('KTA/PINJAMAN ONLINE', 0.964355)"
      ]
     },
     "execution_count": 5,
     "metadata": {},
     "output_type": "execute_result"
    }
   ],
   "source": [
    "predict_text(\"Apply KTA 2O-3OOjt, cicilan 1-3 thn gak ribet buat KTA Cukup lampirkan Copy KTP dan Copy CC INFO LANJUT Call/Wa Bagas : 085283908813 Nisfa : 081214403218\")"
   ]
  },
  {
   "cell_type": "code",
   "execution_count": 6,
   "metadata": {},
   "outputs": [
    {
     "data": {
      "text/plain": [
       "('PENIPUAN', 0.9709929)"
      ]
     },
     "execution_count": 6,
     "metadata": {},
     "output_type": "execute_result"
    }
   ],
   "source": [
    "predict_text(\"Nmr reknya: 5631-01-017240-123. BRI a/n Chairul Alam.\")"
   ]
  },
  {
   "cell_type": "code",
   "execution_count": 7,
   "metadata": {},
   "outputs": [
    {
     "data": {
      "text/plain": [
       "('KTA/PINJAMAN ONLINE', 0.65789175)"
      ]
     },
     "execution_count": 7,
     "metadata": {},
     "output_type": "execute_result"
    }
   ],
   "source": [
    "predict_text(\"Plgn Yth,raih peluang pembiayaan multiguna sd Rp15jt dr mitra Telkomsel. Syarat mdh, dgn KTP&rek bank Anda. S&K: tsel.me/dj_tac Balas sms ini (gratis) ketik: CL\")"
   ]
  },
  {
   "cell_type": "code",
   "execution_count": null,
   "metadata": {},
   "outputs": [],
   "source": []
  }
 ],
 "metadata": {
  "kernelspec": {
   "display_name": "Python 3",
   "language": "python",
   "name": "python3"
  },
  "language_info": {
   "codemirror_mode": {
    "name": "ipython",
    "version": 3
   },
   "file_extension": ".py",
   "mimetype": "text/x-python",
   "name": "python",
   "nbconvert_exporter": "python",
   "pygments_lexer": "ipython3",
   "version": "3.8.5"
  }
 },
 "nbformat": 4,
 "nbformat_minor": 4
}
